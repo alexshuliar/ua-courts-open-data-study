{
 "cells": [
  {
   "cell_type": "code",
   "execution_count": 1,
   "metadata": {},
   "outputs": [
    {
     "data": {
      "text/plain": [
       "'/home/anovax/open_data/edrsr_data'"
      ]
     },
     "execution_count": 1,
     "metadata": {},
     "output_type": "execute_result"
    }
   ],
   "source": [
    "import numpy as np\n",
    "import pandas as pd\n",
    "import os\n",
    "import re\n",
    "import ast\n",
    "import matplotlib.pyplot as plt\n",
    "import seaborn as sns; sns.set_style('whitegrid')\n",
    "\n",
    "os.chdir('/home/anovax/open_data/edrsr_data')\n",
    "\n",
    "os.getcwd()"
   ]
  },
  {
   "cell_type": "code",
   "execution_count": 2,
   "metadata": {},
   "outputs": [],
   "source": [
    "# now that we have extracted basic data we can work with, we need to create some valuable features from them\n",
    "# first let's load our data\n",
    "\n",
    "court_data = pd.read_csv('most_recent/court_features_v3.csv')\n",
    "companies_data = pd.read_csv('most_recent/companies_features_v2.csv')"
   ]
  },
  {
   "cell_type": "code",
   "execution_count": 4,
   "metadata": {
    "collapsed": true
   },
   "outputs": [
    {
     "ename": "AttributeError",
     "evalue": "'DataFrame' object has no attribute 'cleaned'",
     "output_type": "error",
     "traceback": [
      "\u001b[0;31m---------------------------------------------------------------------------\u001b[0m",
      "\u001b[0;31mAttributeError\u001b[0m                            Traceback (most recent call last)",
      "\u001b[0;32m<ipython-input-4-a357860147da>\u001b[0m in \u001b[0;36m<module>\u001b[0;34m\u001b[0m\n\u001b[1;32m      1\u001b[0m \u001b[0;31m# converting the raw strings to lists\u001b[0m\u001b[0;34m\u001b[0m\u001b[0;34m\u001b[0m\u001b[0;34m\u001b[0m\u001b[0m\n\u001b[0;32m----> 2\u001b[0;31m \u001b[0mcourt_data\u001b[0m\u001b[0;34m[\u001b[0m\u001b[0;34m'parties'\u001b[0m\u001b[0;34m]\u001b[0m \u001b[0;34m=\u001b[0m \u001b[0mcourt_data\u001b[0m\u001b[0;34m.\u001b[0m\u001b[0mcleaned\u001b[0m\u001b[0;34m.\u001b[0m\u001b[0mapply\u001b[0m\u001b[0;34m(\u001b[0m\u001b[0mast\u001b[0m\u001b[0;34m.\u001b[0m\u001b[0mliteral_eval\u001b[0m\u001b[0;34m)\u001b[0m\u001b[0;34m\u001b[0m\u001b[0;34m\u001b[0m\u001b[0m\n\u001b[0m\u001b[1;32m      3\u001b[0m \u001b[0mcourt_data\u001b[0m\u001b[0;34m[\u001b[0m\u001b[0;34m'outcomeFull'\u001b[0m\u001b[0;34m]\u001b[0m \u001b[0;34m=\u001b[0m \u001b[0mcourt_data\u001b[0m\u001b[0;34m.\u001b[0m\u001b[0moutcomeFull\u001b[0m\u001b[0;34m.\u001b[0m\u001b[0mapply\u001b[0m\u001b[0;34m(\u001b[0m\u001b[0mast\u001b[0m\u001b[0;34m.\u001b[0m\u001b[0mliteral_eval\u001b[0m\u001b[0;34m)\u001b[0m\u001b[0;34m\u001b[0m\u001b[0;34m\u001b[0m\u001b[0m\n\u001b[1;32m      4\u001b[0m \u001b[0;34m\u001b[0m\u001b[0m\n\u001b[1;32m      5\u001b[0m \u001b[0;32mdel\u001b[0m \u001b[0mcourt_data\u001b[0m\u001b[0;34m[\u001b[0m\u001b[0;34m'cleaned'\u001b[0m\u001b[0;34m]\u001b[0m\u001b[0;34m\u001b[0m\u001b[0;34m\u001b[0m\u001b[0m\n",
      "\u001b[0;32m/usr/local/lib/python3.7/site-packages/pandas/core/generic.py\u001b[0m in \u001b[0;36m__getattr__\u001b[0;34m(self, name)\u001b[0m\n\u001b[1;32m   4374\u001b[0m             \u001b[0;32mif\u001b[0m \u001b[0mself\u001b[0m\u001b[0;34m.\u001b[0m\u001b[0m_info_axis\u001b[0m\u001b[0;34m.\u001b[0m\u001b[0m_can_hold_identifiers_and_holds_name\u001b[0m\u001b[0;34m(\u001b[0m\u001b[0mname\u001b[0m\u001b[0;34m)\u001b[0m\u001b[0;34m:\u001b[0m\u001b[0;34m\u001b[0m\u001b[0;34m\u001b[0m\u001b[0m\n\u001b[1;32m   4375\u001b[0m                 \u001b[0;32mreturn\u001b[0m \u001b[0mself\u001b[0m\u001b[0;34m[\u001b[0m\u001b[0mname\u001b[0m\u001b[0;34m]\u001b[0m\u001b[0;34m\u001b[0m\u001b[0;34m\u001b[0m\u001b[0m\n\u001b[0;32m-> 4376\u001b[0;31m             \u001b[0;32mreturn\u001b[0m \u001b[0mobject\u001b[0m\u001b[0;34m.\u001b[0m\u001b[0m__getattribute__\u001b[0m\u001b[0;34m(\u001b[0m\u001b[0mself\u001b[0m\u001b[0;34m,\u001b[0m \u001b[0mname\u001b[0m\u001b[0;34m)\u001b[0m\u001b[0;34m\u001b[0m\u001b[0;34m\u001b[0m\u001b[0m\n\u001b[0m\u001b[1;32m   4377\u001b[0m \u001b[0;34m\u001b[0m\u001b[0m\n\u001b[1;32m   4378\u001b[0m     \u001b[0;32mdef\u001b[0m \u001b[0m__setattr__\u001b[0m\u001b[0;34m(\u001b[0m\u001b[0mself\u001b[0m\u001b[0;34m,\u001b[0m \u001b[0mname\u001b[0m\u001b[0;34m,\u001b[0m \u001b[0mvalue\u001b[0m\u001b[0;34m)\u001b[0m\u001b[0;34m:\u001b[0m\u001b[0;34m\u001b[0m\u001b[0;34m\u001b[0m\u001b[0m\n",
      "\u001b[0;31mAttributeError\u001b[0m: 'DataFrame' object has no attribute 'cleaned'"
     ]
    }
   ],
   "source": [
    "# converting the raw strings to lists\n",
    "court_data['parties'] = court_data.cleaned.apply(ast.literal_eval)\n",
    "court_data['outcomeFull'] = court_data.outcomeFull.apply(ast.literal_eval)\n",
    "\n",
    "del court_data['cleaned']"
   ]
  },
  {
   "cell_type": "code",
   "execution_count": 6,
   "metadata": {},
   "outputs": [
    {
     "data": {
      "text/html": [
       "<div>\n",
       "<style scoped>\n",
       "    .dataframe tbody tr th:only-of-type {\n",
       "        vertical-align: middle;\n",
       "    }\n",
       "\n",
       "    .dataframe tbody tr th {\n",
       "        vertical-align: top;\n",
       "    }\n",
       "\n",
       "    .dataframe thead th {\n",
       "        text-align: right;\n",
       "    }\n",
       "</style>\n",
       "<table border=\"1\" class=\"dataframe\">\n",
       "  <thead>\n",
       "    <tr style=\"text-align: right;\">\n",
       "      <th></th>\n",
       "      <th>court_code</th>\n",
       "      <th>instance</th>\n",
       "      <th>judgment_code</th>\n",
       "      <th>category_code</th>\n",
       "      <th>cause_num</th>\n",
       "      <th>adjudication_date</th>\n",
       "      <th>judge</th>\n",
       "      <th>id</th>\n",
       "      <th>outcome</th>\n",
       "      <th>outcomeFull</th>\n",
       "      <th>length</th>\n",
       "      <th>n_judges</th>\n",
       "      <th>judges_names</th>\n",
       "      <th>sex</th>\n",
       "      <th>parties</th>\n",
       "    </tr>\n",
       "  </thead>\n",
       "  <tbody>\n",
       "    <tr>\n",
       "      <th>0</th>\n",
       "      <td>5008</td>\n",
       "      <td>Перша</td>\n",
       "      <td>3.0</td>\n",
       "      <td>12276.0</td>\n",
       "      <td>907/784/17</td>\n",
       "      <td>2017-12-18 00:00:00+02</td>\n",
       "      <td>Бобрик Г.Й.</td>\n",
       "      <td>71349142.0</td>\n",
       "      <td>Матеріальне</td>\n",
       "      <td>[{'lawsuitDate': '2018-11-25T22:00:00.000Z', '...</td>\n",
       "      <td>22616.0</td>\n",
       "      <td>1.0</td>\n",
       "      <td>[\"Бобрик Ганна Йосипівна\"]</td>\n",
       "      <td>[\"жінка\"]</td>\n",
       "      <td>[[товариства з обмеженою відповідальністю \"Тер...</td>\n",
       "    </tr>\n",
       "    <tr>\n",
       "      <th>1</th>\n",
       "      <td>5008</td>\n",
       "      <td>Перша</td>\n",
       "      <td>3.0</td>\n",
       "      <td>12289.0</td>\n",
       "      <td>907/770/17</td>\n",
       "      <td>2017-12-18 00:00:00+02</td>\n",
       "      <td>Бобрик Г.Й.</td>\n",
       "      <td>71423042.0</td>\n",
       "      <td>Матеріальне</td>\n",
       "      <td>[{'lawsuitDate': '2018-08-12T21:00:00.000Z', '...</td>\n",
       "      <td>20272.0</td>\n",
       "      <td>1.0</td>\n",
       "      <td>[\"Бобрик Ганна Йосипівна\"]</td>\n",
       "      <td>[\"жінка\"]</td>\n",
       "      <td>[[приватного акціонерного товариства \"Закарпат...</td>\n",
       "    </tr>\n",
       "    <tr>\n",
       "      <th>2</th>\n",
       "      <td>5008</td>\n",
       "      <td>Перша</td>\n",
       "      <td>3.0</td>\n",
       "      <td>NaN</td>\n",
       "      <td>907/800/17</td>\n",
       "      <td>2018-01-09 00:00:00+02</td>\n",
       "      <td>Бобрик Г.Й.</td>\n",
       "      <td>71576333.0</td>\n",
       "      <td>Матеріальне</td>\n",
       "      <td>[{'lawsuitDate': '2018-11-11T22:00:00.000Z', '...</td>\n",
       "      <td>11575.0</td>\n",
       "      <td>1.0</td>\n",
       "      <td>[\"Бобрик Ганна Йосипівна\"]</td>\n",
       "      <td>[\"жінка\"]</td>\n",
       "      <td>[[Регіонального відділення Фонду державного ма...</td>\n",
       "    </tr>\n",
       "    <tr>\n",
       "      <th>3</th>\n",
       "      <td>5008</td>\n",
       "      <td>Перша</td>\n",
       "      <td>3.0</td>\n",
       "      <td>NaN</td>\n",
       "      <td>907/810/17</td>\n",
       "      <td>2018-01-17 00:00:00+02</td>\n",
       "      <td>Йосипчук О.С.</td>\n",
       "      <td>71632797.0</td>\n",
       "      <td>Матеріальне</td>\n",
       "      <td>[{'lawsuitDate': '2018-02-07T22:00:00.000Z', '...</td>\n",
       "      <td>7656.0</td>\n",
       "      <td>2.0</td>\n",
       "      <td>[\"Йосипчук Олександр Семенович\",\"Сакалош М. М.\"]</td>\n",
       "      <td>[\"чоловік\",null]</td>\n",
       "      <td>[[товариства з обмеженою відповідальністю \"Дек...</td>\n",
       "    </tr>\n",
       "    <tr>\n",
       "      <th>4</th>\n",
       "      <td>5008</td>\n",
       "      <td>Перша</td>\n",
       "      <td>3.0</td>\n",
       "      <td>NaN</td>\n",
       "      <td>907/629/17</td>\n",
       "      <td>2018-01-10 00:00:00+02</td>\n",
       "      <td>Пригара Л.І.</td>\n",
       "      <td>71658223.0</td>\n",
       "      <td>Матеріальне</td>\n",
       "      <td>[{'lawsuitDate': '2018-01-09T22:00:00.000Z', '...</td>\n",
       "      <td>30665.0</td>\n",
       "      <td>1.0</td>\n",
       "      <td>[\"Пригара Леся Іванівна\"]</td>\n",
       "      <td>[\"жінка\"]</td>\n",
       "      <td>[[Яношівської сільської ради, Закарпатської об...</td>\n",
       "    </tr>\n",
       "  </tbody>\n",
       "</table>\n",
       "</div>"
      ],
      "text/plain": [
       "   court_code instance  judgment_code  category_code   cause_num  \\\n",
       "0        5008    Перша            3.0        12276.0  907/784/17   \n",
       "1        5008    Перша            3.0        12289.0  907/770/17   \n",
       "2        5008    Перша            3.0            NaN  907/800/17   \n",
       "3        5008    Перша            3.0            NaN  907/810/17   \n",
       "4        5008    Перша            3.0            NaN  907/629/17   \n",
       "\n",
       "        adjudication_date          judge          id      outcome  \\\n",
       "0  2017-12-18 00:00:00+02    Бобрик Г.Й.  71349142.0  Матеріальне   \n",
       "1  2017-12-18 00:00:00+02    Бобрик Г.Й.  71423042.0  Матеріальне   \n",
       "2  2018-01-09 00:00:00+02    Бобрик Г.Й.  71576333.0  Матеріальне   \n",
       "3  2018-01-17 00:00:00+02  Йосипчук О.С.  71632797.0  Матеріальне   \n",
       "4  2018-01-10 00:00:00+02   Пригара Л.І.  71658223.0  Матеріальне   \n",
       "\n",
       "                                         outcomeFull   length  n_judges  \\\n",
       "0  [{'lawsuitDate': '2018-11-25T22:00:00.000Z', '...  22616.0       1.0   \n",
       "1  [{'lawsuitDate': '2018-08-12T21:00:00.000Z', '...  20272.0       1.0   \n",
       "2  [{'lawsuitDate': '2018-11-11T22:00:00.000Z', '...  11575.0       1.0   \n",
       "3  [{'lawsuitDate': '2018-02-07T22:00:00.000Z', '...   7656.0       2.0   \n",
       "4  [{'lawsuitDate': '2018-01-09T22:00:00.000Z', '...  30665.0       1.0   \n",
       "\n",
       "                                       judges_names               sex  \\\n",
       "0                        [\"Бобрик Ганна Йосипівна\"]         [\"жінка\"]   \n",
       "1                        [\"Бобрик Ганна Йосипівна\"]         [\"жінка\"]   \n",
       "2                        [\"Бобрик Ганна Йосипівна\"]         [\"жінка\"]   \n",
       "3  [\"Йосипчук Олександр Семенович\",\"Сакалош М. М.\"]  [\"чоловік\",null]   \n",
       "4                         [\"Пригара Леся Іванівна\"]         [\"жінка\"]   \n",
       "\n",
       "                                             parties  \n",
       "0  [[товариства з обмеженою відповідальністю \"Тер...  \n",
       "1  [[приватного акціонерного товариства \"Закарпат...  \n",
       "2  [[Регіонального відділення Фонду державного ма...  \n",
       "3  [[товариства з обмеженою відповідальністю \"Дек...  \n",
       "4  [[Яношівської сільської ради, Закарпатської об...  "
      ]
     },
     "execution_count": 6,
     "metadata": {},
     "output_type": "execute_result"
    }
   ],
   "source": [
    "court_data.head()"
   ]
  },
  {
   "cell_type": "code",
   "execution_count": 7,
   "metadata": {},
   "outputs": [
    {
     "data": {
      "text/plain": [
       "[['приватного акціонерного товариства \"Закарпаттяобленерго\"'],\n",
       " ['приватного підприємства \"Ізумруд\"']]"
      ]
     },
     "execution_count": 7,
     "metadata": {},
     "output_type": "execute_result"
    }
   ],
   "source": [
    "# recall that our parties stored in format like this:\n",
    "\n",
    "court_data.parties.iloc[1]"
   ]
  },
  {
   "cell_type": "markdown",
   "metadata": {},
   "source": [
    "### Few notes about extracting claimant/defendant\n",
    "\n",
    "We have our parties in array format. First entry is always a claimant. However, with defendant a situation is more complicated. If we have first instance case, then defendant is just a second parties. But, if we have appeal process we applicant and other two parties from the header of the document that corresponds to initial parties of the trial. Both of them can be applicant in appeal process. Thus, we need to compare our applicant to initial parties and choose only one that is not same as applicant. This what the function below is doing with a little trickery to handle cases with multiple parties."
   ]
  },
  {
   "cell_type": "code",
   "execution_count": 13,
   "metadata": {},
   "outputs": [],
   "source": [
    "# function to extract parties\n",
    "# if there are just two parties, we can extract first as claimant and second as defendant\n",
    "# also we're extracting only the first (main) claimant/defendant if there are many of them\n",
    "\n",
    "def get_one_party(row, kind):\n",
    "    # returning party and number of parties for this side of a trial\n",
    "    try:\n",
    "        if kind == 'claimant':\n",
    "\n",
    "            return row[0][0], len(row[0])\n",
    "\n",
    "        else:\n",
    "            if len(row) == 2:\n",
    "\n",
    "                return row[1][0], len(row[1])\n",
    "\n",
    "            else:\n",
    "                try:\n",
    "                    def unify_string(string):\n",
    "                        return string.replace(',','').replace('  ', ' ').upper()\n",
    "                    # to get the index of defendant we comparing each j-th party in i-th parties list\n",
    "                    # using nested list comprehension this results in list of lists of booleans\n",
    "                    # then sum up inner lists and if there is at least one match, it will be one, but we need parties least with no matches - thus zero\n",
    "                    mask = [sum([True if unify_string(party) == unify_string(row[0][0]) else False for party in parties_list]) \n",
    "                                                                                                             for parties_list in row]\n",
    "                    idx = mask.index(0)\n",
    "                    return (row[idx][0], len(row[idx]))\n",
    "                except ValueError:\n",
    "\n",
    "                    return None\n",
    "\n",
    "            \n",
    "    except IndexError:\n",
    "        return None"
   ]
  },
  {
   "cell_type": "code",
   "execution_count": 6,
   "metadata": {},
   "outputs": [
    {
     "data": {
      "text/plain": [
       "[['Приватного акціонерного товариства \"Страхова компанія \"Українська страхова група\"'],\n",
       " ['Товариства з обмеженою відповідальністю \"РУШ\"'],\n",
       " ['Приватного акціонерного товариства \"Страхова компанія \"Українська страхова група\"']]"
      ]
     },
     "execution_count": 6,
     "metadata": {},
     "output_type": "execute_result"
    }
   ],
   "source": [
    "# let's try out our function for a sample from a dataset\n",
    "\n",
    "test_parties = court_data.parties.iloc[1500]\n",
    "\n",
    "test_parties"
   ]
  },
  {
   "cell_type": "code",
   "execution_count": 7,
   "metadata": {},
   "outputs": [
    {
     "data": {
      "text/plain": [
       "('Товариства з обмеженою відповідальністю \"РУШ\"', 1)"
      ]
     },
     "execution_count": 7,
     "metadata": {},
     "output_type": "execute_result"
    }
   ],
   "source": [
    "# we're interested in defendant case behaviour\n",
    "# claimant extraction is pretty straightforward and we should not have any problems with it\n",
    "get_one_party(test_parties, 'defendant')"
   ]
  },
  {
   "cell_type": "code",
   "execution_count": 8,
   "metadata": {},
   "outputs": [
    {
     "data": {
      "text/plain": [
       "('Інший відповідач', 2)"
      ]
     },
     "execution_count": 8,
     "metadata": {},
     "output_type": "execute_result"
    }
   ],
   "source": [
    "# let's make our case more complicated and add more parties on each side to be sure function can handle it\n",
    "\n",
    "test_parties = [['Товариства з обмеженою відповідальністю \"РУШ\"'],\n",
    "                ['Інший позивач', 'Товариства з обмеженою відповідальністю \"РУШ\"'],\n",
    "                ['Інший відповідач', 'Приватного акціонерного товариства \"Страхова компанія \"Українська страхова група\"']]\n",
    "# all seems to work fine\n",
    "get_one_party(test_parties, 'defendant')"
   ]
  },
  {
   "cell_type": "code",
   "execution_count": 9,
   "metadata": {},
   "outputs": [],
   "source": [
    "# applying our function to parties in all dataset\n",
    "\n",
    "court_data['claimant'] = court_data.parties.apply(get_one_party, kind='claimant')\n",
    "court_data['defendant'] = court_data.parties.apply(get_one_party, kind='defendant')\n",
    "\n",
    "court_data.dropna(subset=['claimant', 'defendant'], inplace=True)\n",
    "\n",
    "court_data['n_claimants'] = court_data['claimant'].apply(lambda x: x[1])\n",
    "court_data['claimant'] = court_data['claimant'].apply(lambda x: x[0])\n",
    "\n",
    "court_data['n_defendants'] = court_data['defendant'].apply(lambda x: x[1])\n",
    "court_data['defendant'] = court_data['defendant'].apply(lambda x: x[0])"
   ]
  },
  {
   "cell_type": "code",
   "execution_count": 10,
   "metadata": {},
   "outputs": [],
   "source": [
    "all_court_data = court_data.copy()"
   ]
  },
  {
   "cell_type": "code",
   "execution_count": 8,
   "metadata": {},
   "outputs": [],
   "source": [
    "# now we need a function to assing each party in our dataset its capital by searching in companies_data\n",
    "\n",
    "def get_parties_capital(row):\n",
    "    \n",
    "    splited_row = ' '.join([i[:3].upper() if '\"' not in i else i.upper() for i in row.split()])\n",
    "    result = companies_data.loc[companies_data.NAME_SPLIT.isin([splited_row])].CAPITAL\n",
    "    return result.iloc[0] if not result.empty else None"
   ]
  },
  {
   "cell_type": "code",
   "execution_count": 9,
   "metadata": {},
   "outputs": [],
   "source": [
    "court_data['claimant_capital'] = court_data.claimant.apply(get_parties_capital)\n",
    "court_data['defendant_capital'] = court_data.defendant.apply(get_parties_capital)"
   ]
  },
  {
   "cell_type": "code",
   "execution_count": 10,
   "metadata": {},
   "outputs": [
    {
     "data": {
      "text/html": [
       "<div>\n",
       "<style scoped>\n",
       "    .dataframe tbody tr th:only-of-type {\n",
       "        vertical-align: middle;\n",
       "    }\n",
       "\n",
       "    .dataframe tbody tr th {\n",
       "        vertical-align: top;\n",
       "    }\n",
       "\n",
       "    .dataframe thead th {\n",
       "        text-align: right;\n",
       "    }\n",
       "</style>\n",
       "<table border=\"1\" class=\"dataframe\">\n",
       "  <thead>\n",
       "    <tr style=\"text-align: right;\">\n",
       "      <th></th>\n",
       "      <th>claimant</th>\n",
       "      <th>defendant</th>\n",
       "      <th>n_claimants</th>\n",
       "      <th>n_defendants</th>\n",
       "      <th>claimant_capital</th>\n",
       "      <th>defendant_capital</th>\n",
       "    </tr>\n",
       "  </thead>\n",
       "  <tbody>\n",
       "    <tr>\n",
       "      <th>0</th>\n",
       "      <td>товариства з обмеженою відповідальністю \"Термі...</td>\n",
       "      <td>товариства з обмеженою відповідальністю \"Шкала...</td>\n",
       "      <td>1</td>\n",
       "      <td>1</td>\n",
       "      <td>NaN</td>\n",
       "      <td>NaN</td>\n",
       "    </tr>\n",
       "    <tr>\n",
       "      <th>1</th>\n",
       "      <td>приватного акціонерного товариства \"Закарпаття...</td>\n",
       "      <td>приватного підприємства \"Ізумруд\"</td>\n",
       "      <td>1</td>\n",
       "      <td>1</td>\n",
       "      <td>31150810.0</td>\n",
       "      <td>NaN</td>\n",
       "    </tr>\n",
       "    <tr>\n",
       "      <th>2</th>\n",
       "      <td>Регіонального відділення Фонду державного майн...</td>\n",
       "      <td>товариства з обмеженою відповідальністю \"Карпа...</td>\n",
       "      <td>1</td>\n",
       "      <td>1</td>\n",
       "      <td>0.0</td>\n",
       "      <td>477763.0</td>\n",
       "    </tr>\n",
       "    <tr>\n",
       "      <th>3</th>\n",
       "      <td>товариства з обмеженою відповідальністю \"Декад...</td>\n",
       "      <td>фізичної особи-підприємця Сакалош Мар'яни Миха...</td>\n",
       "      <td>1</td>\n",
       "      <td>1</td>\n",
       "      <td>2878000.0</td>\n",
       "      <td>NaN</td>\n",
       "    </tr>\n",
       "    <tr>\n",
       "      <th>4</th>\n",
       "      <td>Яношівської сільської ради, Закарпатської області</td>\n",
       "      <td>Фізичної особи - підприємця Біров Тібора Людви...</td>\n",
       "      <td>1</td>\n",
       "      <td>1</td>\n",
       "      <td>NaN</td>\n",
       "      <td>NaN</td>\n",
       "    </tr>\n",
       "  </tbody>\n",
       "</table>\n",
       "</div>"
      ],
      "text/plain": [
       "                                            claimant  \\\n",
       "0  товариства з обмеженою відповідальністю \"Термі...   \n",
       "1  приватного акціонерного товариства \"Закарпаття...   \n",
       "2  Регіонального відділення Фонду державного майн...   \n",
       "3  товариства з обмеженою відповідальністю \"Декад...   \n",
       "4  Яношівської сільської ради, Закарпатської області   \n",
       "\n",
       "                                           defendant  n_claimants  \\\n",
       "0  товариства з обмеженою відповідальністю \"Шкала...            1   \n",
       "1                  приватного підприємства \"Ізумруд\"            1   \n",
       "2  товариства з обмеженою відповідальністю \"Карпа...            1   \n",
       "3  фізичної особи-підприємця Сакалош Мар'яни Миха...            1   \n",
       "4  Фізичної особи - підприємця Біров Тібора Людви...            1   \n",
       "\n",
       "   n_defendants  claimant_capital  defendant_capital  \n",
       "0             1               NaN                NaN  \n",
       "1             1        31150810.0                NaN  \n",
       "2             1               0.0           477763.0  \n",
       "3             1         2878000.0                NaN  \n",
       "4             1               NaN                NaN  "
      ]
     },
     "execution_count": 10,
     "metadata": {},
     "output_type": "execute_result"
    }
   ],
   "source": [
    "# here comes the next big twist, for our one row to be valid we need we need to match both claimant and defendant\n",
    "# if one of them fail, full row have to be dropped, thus the risk to lost information increases and dataset size decreases\n",
    "# we can see the if we look to a lot of null values we in columns claimant_capital and defendant_capital\n",
    "\n",
    "court_data[['claimant', 'defendant', 'n_claimants', \n",
    "           'n_defendants', 'claimant_capital', 'defendant_capital']].head()"
   ]
  },
  {
   "cell_type": "code",
   "execution_count": 11,
   "metadata": {},
   "outputs": [
    {
     "name": "stdout",
     "output_type": "stream",
     "text": [
      "(10568, 21)\n"
     ]
    },
    {
     "data": {
      "text/html": [
       "<div>\n",
       "<style scoped>\n",
       "    .dataframe tbody tr th:only-of-type {\n",
       "        vertical-align: middle;\n",
       "    }\n",
       "\n",
       "    .dataframe tbody tr th {\n",
       "        vertical-align: top;\n",
       "    }\n",
       "\n",
       "    .dataframe thead th {\n",
       "        text-align: right;\n",
       "    }\n",
       "</style>\n",
       "<table border=\"1\" class=\"dataframe\">\n",
       "  <thead>\n",
       "    <tr style=\"text-align: right;\">\n",
       "      <th></th>\n",
       "      <th>claimant</th>\n",
       "      <th>defendant</th>\n",
       "      <th>n_claimants</th>\n",
       "      <th>n_defendants</th>\n",
       "      <th>claimant_capital</th>\n",
       "      <th>defendant_capital</th>\n",
       "    </tr>\n",
       "  </thead>\n",
       "  <tbody>\n",
       "    <tr>\n",
       "      <th>2</th>\n",
       "      <td>Регіонального відділення Фонду державного майн...</td>\n",
       "      <td>товариства з обмеженою відповідальністю \"Карпа...</td>\n",
       "      <td>1</td>\n",
       "      <td>1</td>\n",
       "      <td>0.000000e+00</td>\n",
       "      <td>477763.0</td>\n",
       "    </tr>\n",
       "    <tr>\n",
       "      <th>41</th>\n",
       "      <td>публічного акціонерного товариства \"Національн...</td>\n",
       "      <td>Державного вищого навчального закладу \"Ужгород...</td>\n",
       "      <td>1</td>\n",
       "      <td>1</td>\n",
       "      <td>1.901505e+11</td>\n",
       "      <td>0.0</td>\n",
       "    </tr>\n",
       "    <tr>\n",
       "      <th>42</th>\n",
       "      <td>публічного акціонерного товариства \"Національн...</td>\n",
       "      <td>Державного вищого навчального закладу \"Ужгород...</td>\n",
       "      <td>1</td>\n",
       "      <td>1</td>\n",
       "      <td>1.901505e+11</td>\n",
       "      <td>0.0</td>\n",
       "    </tr>\n",
       "    <tr>\n",
       "      <th>48</th>\n",
       "      <td>товариства з обмеженою відповідальністю \"Експр...</td>\n",
       "      <td>товариства з обмеженою відповідальністю \"ТОП Л...</td>\n",
       "      <td>1</td>\n",
       "      <td>1</td>\n",
       "      <td>1.738943e+07</td>\n",
       "      <td>3200.0</td>\n",
       "    </tr>\n",
       "    <tr>\n",
       "      <th>53</th>\n",
       "      <td>приватного підприємства спеціалізованого ремон...</td>\n",
       "      <td>товариства з обмеженою відповідальністю \"Готел...</td>\n",
       "      <td>1</td>\n",
       "      <td>1</td>\n",
       "      <td>3.000000e+03</td>\n",
       "      <td>100.0</td>\n",
       "    </tr>\n",
       "  </tbody>\n",
       "</table>\n",
       "</div>"
      ],
      "text/plain": [
       "                                             claimant  \\\n",
       "2   Регіонального відділення Фонду державного майн...   \n",
       "41  публічного акціонерного товариства \"Національн...   \n",
       "42  публічного акціонерного товариства \"Національн...   \n",
       "48  товариства з обмеженою відповідальністю \"Експр...   \n",
       "53  приватного підприємства спеціалізованого ремон...   \n",
       "\n",
       "                                            defendant  n_claimants  \\\n",
       "2   товариства з обмеженою відповідальністю \"Карпа...            1   \n",
       "41  Державного вищого навчального закладу \"Ужгород...            1   \n",
       "42  Державного вищого навчального закладу \"Ужгород...            1   \n",
       "48  товариства з обмеженою відповідальністю \"ТОП Л...            1   \n",
       "53  товариства з обмеженою відповідальністю \"Готел...            1   \n",
       "\n",
       "    n_defendants  claimant_capital  defendant_capital  \n",
       "2              1      0.000000e+00           477763.0  \n",
       "41             1      1.901505e+11                0.0  \n",
       "42             1      1.901505e+11                0.0  \n",
       "48             1      1.738943e+07             3200.0  \n",
       "53             1      3.000000e+03              100.0  "
      ]
     },
     "execution_count": 11,
     "metadata": {},
     "output_type": "execute_result"
    }
   ],
   "source": [
    "# only 10568 non-null values left\n",
    "\n",
    "court_data.dropna(subset=['claimant_capital', 'defendant_capital'], inplace=True)\n",
    "\n",
    "print(court_data.shape)\n",
    "\n",
    "court_data[['claimant', 'defendant', 'n_claimants', \n",
    "           'n_defendants', 'claimant_capital', 'defendant_capital']].head()"
   ]
  },
  {
   "cell_type": "code",
   "execution_count": 63,
   "metadata": {},
   "outputs": [
    {
     "data": {
      "image/png": "[encoded data removed]",
      "text/plain": [
       "<Figure size 509.25x360 with 1 Axes>"
      ]
     },
     "metadata": {
      "needs_background": "light"
     },
     "output_type": "display_data"
    }
   ],
   "source": [
    "# now let's look into our capitals data\n",
    "# because we have some too large anomaly capitals, instead of histogram we'll use bar plot, separating capitals into two groups\n",
    "# not that I've expected to see, we have many more samples with capitals larger than 10 000\n",
    "# maybe it's connected to the fact that usually small companies not so often are willing to participate in a trial\n",
    "# but another reason may be that we somehow extracted more those values with larger capitals (more probable)\n",
    "\n",
    "\n",
    "claimant_cap = pd.Series(np.where(court_data.claimant_capital > 10000, 'More than 10 000 UAH', 'Less than 10 000 UAH'))\n",
    "defendant_cap = pd.Series(np.where(court_data.defendant_capital > 10000, 'More than 10 000 UAH', 'Less than 10 000 UAH'))\n",
    "\n",
    "combined_cap = pd.melt(pd.DataFrame({'Claimant capital': claimant_cap, 'Defendant capital': defendant_cap}), \n",
    "                       var_name='which', value_name='capital_size')\n",
    "combined_cap = combined_cap.groupby('which').capital_size.value_counts().to_frame('counts').reset_index()\n",
    "\n",
    "sns.catplot(x='which', hue='capital_size', y='counts', data=combined_cap, kind='bar', palette='viridis');"
   ]
  },
  {
   "cell_type": "code",
   "execution_count": 15,
   "metadata": {},
   "outputs": [],
   "source": [
    "# now we need function to extract outcomes\n",
    "\n",
    "def get_outcome(row):\n",
    "    try:\n",
    "        \n",
    "        doc_id = row.id\n",
    "        outcomes_list = [case for case in row.outcomeFull if float(case['id']) == doc_id][0]['outcomeFull']\n",
    "\n",
    "        outcome = 0\n",
    "\n",
    "        for i in outcomes_list:\n",
    "            if i in ['Відмовлено у задоволенні скарги', 'Рішення залишено без змін', 'Відмовлено у задоволенні позову']:\n",
    "                outcome += 0\n",
    "            elif i in ['Позов задоволено', 'Скарга задоволена', 'Позов задоволено частково', 'Накладено стягнення']:\n",
    "                outcome += 1\n",
    "        \n",
    "        if outcome >= 2: # to handle cases like  ['Позов задоволено частково', 'Скарга задоволена']\n",
    "                        # was == 2, but not > 2 to handle cases like ['Позов задоволено', 'Скарга задоволена', 'Накладено стягнення']\n",
    "            outcome = 1\n",
    "        return outcome\n",
    "    \n",
    "    except IndexError:\n",
    "        \n",
    "        return None"
   ]
  },
  {
   "cell_type": "code",
   "execution_count": 13,
   "metadata": {},
   "outputs": [],
   "source": [
    "court_data['outcome'] = court_data.apply(get_outcome, axis=1)"
   ]
  },
  {
   "cell_type": "code",
   "execution_count": 15,
   "metadata": {
    "scrolled": true
   },
   "outputs": [
    {
     "data": {
      "text/plain": [
       "(10448, 21)"
      ]
     },
     "execution_count": 15,
     "metadata": {},
     "output_type": "execute_result"
    }
   ],
   "source": [
    "court_data.dropna(subset=['outcome'], inplace=True)\n",
    "court_data.shape"
   ]
  },
  {
   "cell_type": "code",
   "execution_count": 69,
   "metadata": {},
   "outputs": [
    {
     "data": {
      "image/png": "[encoded data removed]",
      "text/plain": [
       "<Figure size 432x288 with 1 Axes>"
      ]
     },
     "metadata": {
      "needs_background": "light"
     },
     "output_type": "display_data"
    }
   ],
   "source": [
    "# seems like there are more positive decisions than negative\n",
    "# further we need to compare this proportion with proportion in larger dataset without capitals to see they match\n",
    "\n",
    "with sns.color_palette('viridis', n_colors=2):\n",
    "    court_data.outcome.map({0: 'Refusal', 1: 'Approval'}).value_counts().plot.bar(title='Proportion of outcomes')\n",
    "    plt.xticks(rotation=0);"
   ]
  },
  {
   "cell_type": "code",
   "execution_count": 18,
   "metadata": {},
   "outputs": [],
   "source": [
    "filtered_df = court_data.copy()"
   ]
  },
  {
   "cell_type": "code",
   "execution_count": 31,
   "metadata": {},
   "outputs": [],
   "source": [
    "# now we wan't to extract sex of each judge\n",
    "\n",
    "def get_judge_sex(row):\n",
    "    try:\n",
    "        stemmed_names = []\n",
    "        for name in row.judges_names:\n",
    "            shorten = ' '.join([j[0]+'.' if i == 1 or i == 2 else j for i, j in enumerate(name.split())])\n",
    "            stemmed_names.append(shorten)\n",
    "\n",
    "        idx = [stemmed_names.index(judge) for judge in stemmed_names if judge[:-3]+judge[-2:] == row.judge][0]\n",
    "\n",
    "        return 0 if row.sex[idx] == 'чоловік' else 1\n",
    "    \n",
    "    except IndexError:\n",
    "        return None"
   ]
  },
  {
   "cell_type": "code",
   "execution_count": null,
   "metadata": {},
   "outputs": [],
   "source": [
    "court_data"
   ]
  },
  {
   "cell_type": "code",
   "execution_count": 17,
   "metadata": {},
   "outputs": [],
   "source": [
    "# actually here we're dropping 990 of our values\n",
    "# if further we'll see that this feature along with sex, is not usefull, we should come back here and not drop these values\n",
    "# filtered_df = court_data.dropna(subset=['judges_names'])"
   ]
  },
  {
   "cell_type": "code",
   "execution_count": 18,
   "metadata": {
    "collapsed": true
   },
   "outputs": [
    {
     "name": "stderr",
     "output_type": "stream",
     "text": [
      "/usr/local/lib/python3.7/site-packages/ipykernel_launcher.py:1: SettingWithCopyWarning: \n",
      "A value is trying to be set on a copy of a slice from a DataFrame.\n",
      "Try using .loc[row_indexer,col_indexer] = value instead\n",
      "\n",
      "See the caveats in the documentation: http://pandas.pydata.org/pandas-docs/stable/indexing.html#indexing-view-versus-copy\n",
      "  \"\"\"Entry point for launching an IPython kernel.\n"
     ]
    }
   ],
   "source": [
    "# filtered_df['judges_names'] = filtered_df.judges_names.apply(ast.literal_eval)"
   ]
  },
  {
   "cell_type": "code",
   "execution_count": 19,
   "metadata": {},
   "outputs": [],
   "source": [
    "# filtered_df = filtered_df[~filtered_df['sex'].isin(['[null]'])]\n",
    "\n",
    "# filtered_df['sex'] = filtered_df.sex.apply(lambda x: x.replace('null', '\"null\"')).apply(ast.literal_eval)\n",
    "\n",
    "# filtered_df['bin_sex'] = filtered_df.apply(get_judge_sex, axis=1)\n",
    "\n",
    "# filtered_df.dropna(subset=['bin_sex'], inplace=True)"
   ]
  },
  {
   "cell_type": "code",
   "execution_count": 20,
   "metadata": {},
   "outputs": [
    {
     "data": {
      "text/plain": [
       "(8486, 22)"
      ]
     },
     "execution_count": 20,
     "metadata": {},
     "output_type": "execute_result"
    }
   ],
   "source": [
    "# # only 8k+ are left\n",
    "# filtered_df.shape"
   ]
  },
  {
   "cell_type": "code",
   "execution_count": 14,
   "metadata": {},
   "outputs": [],
   "source": [
    "# now we wan't to count our parties - how much times they already been involved in a trial\n",
    "\n",
    "def get_party_count(row, kind, data):\n",
    "    if kind == 'claimant':\n",
    "        return data.claimant_split.isin([row]).sum()\n",
    "    \n",
    "    elif kind == 'defendant':\n",
    "        return data.defendant_split.isin([row]).sum()\n",
    "    \n",
    "    else:\n",
    "        return data.claimant_split.isin([row]).sum() + data.defendant_split.isin([row]).sum()"
   ]
  },
  {
   "cell_type": "code",
   "execution_count": 19,
   "metadata": {},
   "outputs": [],
   "source": [
    "# cutting our strings with parties to better match when count\n",
    "\n",
    "filtered_df['claimant_split'] = filtered_df.claimant.apply(lambda x: ' '.join([i[:3].upper().replace(',', '') if '\"' not in i else i.upper().replace(',', '') for i in x.split()]))\n",
    "filtered_df['defendant_split'] = filtered_df.defendant.apply(lambda x: ' '.join([i[:3].upper().replace(',', '') if '\"' not in i else i.upper().replace(',', '') for i in x.split()]))"
   ]
  },
  {
   "cell_type": "code",
   "execution_count": null,
   "metadata": {},
   "outputs": [],
   "source": [
    "# applying our function\n",
    "\n",
    "filtered_df['claimant_as_claimant'] = filtered_df.claimant_split.apply(get_party_count, kind='claimant', data=filtered_df)\n",
    "filtered_df['claimant_as_defendant'] = filtered_df.claimant_split.apply(get_party_count, kind='defendant', data=filtered_df)\n",
    "filtered_df['claimant_overall'] = filtered_df.claimant_split.apply(get_party_count, kind='overall', data=filtered_df)\n",
    "\n",
    "filtered_df['defendant_as_claimant'] = filtered_df.claimant_split.apply(get_party_count, kind='claimant', data=filtered_df)\n",
    "filtered_df['defendant_as_defendant'] = filtered_df.claimant_split.apply(get_party_count, kind='defendant', data=filtered_df)\n",
    "filtered_df['defendant_overall'] = filtered_df.claimant_split.apply(get_party_count, kind='overall', data=filtered_df)"
   ]
  },
  {
   "cell_type": "code",
   "execution_count": 23,
   "metadata": {},
   "outputs": [],
   "source": [
    "# next we'll extract the dayofweek of a trial\n",
    "# for some reason the date is off for one day, so we need to manually fix that by adding an offset\n",
    "\n",
    "from pandas.tseries.offsets import Day\n",
    "\n",
    "def get_time(row):\n",
    "    try:\n",
    "    \n",
    "        date = pd.to_datetime([case['lawsuitDate'] for case in row.outcomeFull if row.id == float(case['id'])][0]) + Day()\n",
    "    \n",
    "        return date.dayofweek\n",
    "    \n",
    "    except IndexError:\n",
    "        return None"
   ]
  },
  {
   "cell_type": "code",
   "execution_count": 36,
   "metadata": {},
   "outputs": [],
   "source": [
    "filtered_df['dayofweek'] = filtered_df.apply(get_time, axis=1)"
   ]
  },
  {
   "cell_type": "code",
   "execution_count": 25,
   "metadata": {},
   "outputs": [],
   "source": [
    "# loading previously extracted data that has duration in days for each case\n",
    "\n",
    "durations_df = pd.read_csv('duration_df.csv')"
   ]
  },
  {
   "cell_type": "code",
   "execution_count": 37,
   "metadata": {},
   "outputs": [],
   "source": [
    "filtered_df = pd.merge(filtered_df, durations_df, left_on=['cause_num', 'instance'], right_on=['cause_num', 'name_y'])"
   ]
  },
  {
   "cell_type": "code",
   "execution_count": 38,
   "metadata": {},
   "outputs": [],
   "source": [
    "filtered_df['duration_days'] = filtered_df.adjudication_date_y.str.extract(r'(\\d+)\\sdays')[0].astype(int)"
   ]
  },
  {
   "cell_type": "code",
   "execution_count": 30,
   "metadata": {},
   "outputs": [
    {
     "data": {
      "text/plain": [
       "0    361\n",
       "1     97\n",
       "2     97\n",
       "3     98\n",
       "4    328\n",
       "Name: duration_days, dtype: int64"
      ]
     },
     "execution_count": 30,
     "metadata": {},
     "output_type": "execute_result"
    }
   ],
   "source": [
    "filtered_df['duration_days'].head()"
   ]
  },
  {
   "cell_type": "code",
   "execution_count": 31,
   "metadata": {},
   "outputs": [],
   "source": [
    "# saving our reduced df to compare then with those where judges sex not counted\n",
    "\n",
    "reduced_df = filtered_df.copy()"
   ]
  },
  {
   "cell_type": "code",
   "execution_count": 107,
   "metadata": {},
   "outputs": [],
   "source": [
    "# all_court_data = pd.read_csv('court_features_v3.csv')"
   ]
  },
  {
   "cell_type": "code",
   "execution_count": 11,
   "metadata": {},
   "outputs": [],
   "source": [
    "# all_court_data['parties'] = all_court_data.cleaned.apply(ast.literal_eval)\n",
    "# all_court_data['outcomeFull'] = all_court_data.outcomeFull.apply(ast.literal_eval)\n",
    "\n",
    "# del all_court_data['cleaned']\n",
    "\n",
    "all_court_data['id'] = all_court_data['id'].apply(int)"
   ]
  },
  {
   "cell_type": "code",
   "execution_count": 63,
   "metadata": {},
   "outputs": [],
   "source": [
    "# all_court_data['claimant'] = all_court_data.parties.apply(get_one_party, kind='claimant')\n",
    "# all_court_data['defendant'] = all_court_data.parties.apply(get_one_party, kind='defendant')\n",
    "\n",
    "# all_court_data.dropna(subset=['claimant', 'defendant'], inplace=True)\n",
    "\n",
    "# all_court_data['n_claimants'] = all_court_data['claimant'].apply(lambda x: x[1])\n",
    "# all_court_data['claimant'] = all_court_data['claimant'].apply(lambda x: x[0])\n",
    "\n",
    "# all_court_data['n_defendants'] = all_court_data['defendant'].apply(lambda x: x[1])\n",
    "# all_court_data['defendant'] = all_court_data['defendant'].apply(lambda x: x[0])"
   ]
  },
  {
   "cell_type": "code",
   "execution_count": 16,
   "metadata": {},
   "outputs": [],
   "source": [
    "all_court_data['outcome'] = all_court_data.apply(get_outcome, axis=1)"
   ]
  },
  {
   "cell_type": "code",
   "execution_count": 17,
   "metadata": {},
   "outputs": [
    {
     "data": {
      "text/plain": [
       "(70440, 19)"
      ]
     },
     "execution_count": 17,
     "metadata": {},
     "output_type": "execute_result"
    }
   ],
   "source": [
    "all_court_data.shape"
   ]
  },
  {
   "cell_type": "code",
   "execution_count": 18,
   "metadata": {},
   "outputs": [],
   "source": [
    "all_court_data['claimant_split'] = all_court_data.claimant.apply(lambda x: ' '.join([i[:3].upper().replace(',', '') if '\"' not in i else i.upper().replace(',', '') for i in x.split()]))\n",
    "all_court_data['defendant_split'] = all_court_data.defendant.apply(lambda x: ' '.join([i[:3].upper().replace(',', '') if '\"' not in i else i.upper().replace(',', '') for i in x.split()]))\n",
    "\n",
    "all_court_data['claimant_as_claimant'] = all_court_data.claimant_split.apply(get_party_count, kind='claimant', data=all_court_data)\n",
    "all_court_data['claimant_as_defendant'] = all_court_data.claimant_split.apply(get_party_count, kind='defendant', data=all_court_data)\n",
    "all_court_data['claimant_overall'] = all_court_data.claimant_split.apply(get_party_count, kind='overall', data=all_court_data)\n",
    "\n",
    "all_court_data['defendant_as_claimant'] = all_court_data.claimant_split.apply(get_party_count, kind='claimant', data=all_court_data)\n",
    "all_court_data['defendant_as_defendant'] = all_court_data.claimant_split.apply(get_party_count, kind='defendant', data=all_court_data)\n",
    "all_court_data['defendant_overall'] = all_court_data.claimant_split.apply(get_party_count, kind='overall', data=all_court_data)"
   ]
  },
  {
   "cell_type": "code",
   "execution_count": 28,
   "metadata": {},
   "outputs": [],
   "source": [
    "# all_court_data['dayofweek'] = all_court_data.apply(get_time, axis=1)\n",
    "all_court_data = pd.merge(all_court_data, durations_df, left_on=['cause_num', 'instance'], right_on=['cause_num', 'name_y'])\n",
    "all_court_data['duration_days'] = all_court_data.adjudication_date_y.str.extract(r'(\\d+)\\sdays')[0].astype(int)\n",
    "\n",
    "all_court_data.dropna(subset=['dayofweek'], inplace=True)"
   ]
  },
  {
   "cell_type": "code",
   "execution_count": 120,
   "metadata": {},
   "outputs": [
    {
     "data": {
      "image/png": "[encoded data removed]",
      "text/plain": [
       "<Figure size 440.375x360 with 1 Axes>"
      ]
     },
     "metadata": {
      "needs_background": "light"
     },
     "output_type": "display_data"
    }
   ],
   "source": [
    "# going back and checking if both dataset (smaller and larger) match\n",
    "\n",
    "capitals = filtered_df.outcome.map({0: 'Refusal', 1: 'Approval'}).value_counts(normalize=True).reset_index()\n",
    "\n",
    "without_capitals = all_court_data.outcome.map({0: 'Refusal', 1: 'Approval'}).value_counts(normalize=True).reset_index()\n",
    "\n",
    "both = pd.concat([capitals, without_capitals], keys=['capitals', 'without_capitals'])\\\n",
    "                                                        .reset_index(0).rename({'level_0': 'kind',\n",
    "                                                                                'index': 'outcome_kind',\n",
    "                                                                                'outcome': 'expected_outcome'}, axis=1)\n",
    "\n",
    "sns.catplot(x='kind', hue='outcome_kind', y='expected_outcome', data=both, kind='bar', palette='viridis');"
   ]
  },
  {
   "cell_type": "code",
   "execution_count": 141,
   "metadata": {},
   "outputs": [
    {
     "data": {
      "image/png": "[encoded data removed]",
      "text/plain": [
       "<Figure size 436x360 with 1 Axes>"
      ]
     },
     "metadata": {
      "needs_background": "light"
     },
     "output_type": "display_data"
    }
   ],
   "source": [
    "all_court_data['sex'] = data_bs_reduced.bin_sex.map({0: 'Чоловік', 1: 'Жінка'})\n",
    "\n",
    "sns.catplot(x='instance', hue='sex', y='outcome',\n",
    "            data=all_court_data.groupby(['instance', 'sex']).outcome.mean().reset_index(), \n",
    "            kind='bar', palette='viridis');"
   ]
  },
  {
   "cell_type": "code",
   "execution_count": 143,
   "metadata": {},
   "outputs": [
    {
     "data": {
      "image/png": "[encoded data removed]",
      "text/plain": [
       "<Figure size 360x360 with 1 Axes>"
      ]
     },
     "metadata": {
      "needs_background": "light"
     },
     "output_type": "display_data"
    }
   ],
   "source": [
    "sns.catplot(x='sex', y='outcome',\n",
    "            data=all_court_data.groupby('sex').outcome.mean().reset_index(), kind='bar', palette='viridis');"
   ]
  },
  {
   "cell_type": "code",
   "execution_count": 280,
   "metadata": {},
   "outputs": [
    {
     "data": {
      "text/plain": [
       "0.03201589144103395"
      ]
     },
     "execution_count": 280,
     "metadata": {},
     "output_type": "execute_result"
    }
   ],
   "source": [
    "# summed difference for all instances\n",
    "\n",
    "all_court_data.groupby(['instance', 'bin_sex']).outcome.mean().reset_index()\\\n",
    "            .groupby('instance').outcome.apply(lambda x: x.iloc[1] - x.iloc[0]).sum()"
   ]
  },
  {
   "cell_type": "code",
   "execution_count": 279,
   "metadata": {},
   "outputs": [
    {
     "data": {
      "text/plain": [
       "0.07489063867016621"
      ]
     },
     "execution_count": 279,
     "metadata": {},
     "output_type": "execute_result"
    }
   ],
   "source": [
    "# without group by instances, overall difference, they don't match\n",
    "# how that possible? Kind of Simpson paradox?\n",
    "\n",
    "all_court_data.groupby(['bin_sex']).outcome.mean().reset_index().outcome.diff().max()"
   ]
  },
  {
   "cell_type": "code",
   "execution_count": 290,
   "metadata": {},
   "outputs": [
    {
     "data": {
      "image/png": "[encoded data removed]",
      "text/plain": [
       "<Figure size 432x288 with 1 Axes>"
      ]
     },
     "metadata": {
      "needs_background": "light"
     },
     "output_type": "display_data"
    }
   ],
   "source": [
    "# Thursday is luckiest day, 5 and 6 are Fridays and Thursday - there are very few trials at all\n",
    "# probably it's because Thursday has less cases overall\n",
    "\n",
    "all_court_data.groupby('dayofweek').outcome.mean().plot();"
   ]
  },
  {
   "cell_type": "code",
   "execution_count": 148,
   "metadata": {},
   "outputs": [
    {
     "data": {
      "text/plain": [
       "dayofweek\n",
       "0.0    14123\n",
       "1.0    20207\n",
       "2.0    15020\n",
       "3.0    15617\n",
       "4.0     4156\n",
       "5.0      180\n",
       "6.0       12\n",
       "Name: outcome, dtype: int64"
      ]
     },
     "execution_count": 148,
     "metadata": {},
     "output_type": "execute_result"
    }
   ],
   "source": [
    "# and this is indeed True, Thursday just happen to have much less cases\n",
    "\n",
    "all_court_data.groupby('dayofweek').outcome.count()"
   ]
  },
  {
   "cell_type": "markdown",
   "metadata": {},
   "source": [
    "### Final preparations and saving into files"
   ]
  },
  {
   "cell_type": "code",
   "execution_count": 85,
   "metadata": {},
   "outputs": [],
   "source": [
    "sample_all_data = all_court_data[all_court_data.id.isin(filtered_df.id)].copy()"
   ]
  },
  {
   "cell_type": "code",
   "execution_count": 29,
   "metadata": {},
   "outputs": [],
   "source": [
    "# saving our datasets\n",
    "\n",
    "filtered_df.drop(['adjudication_date_y'], axis=1).to_csv('most_recent/data_with_capitals.csv', index=False)\n",
    "all_court_data.drop(['adjudication_date_y'], axis=1).to_csv('most_recent/data_full.csv', index=False)"
   ]
  },
  {
   "cell_type": "code",
   "execution_count": null,
   "metadata": {},
   "outputs": [],
   "source": [
    "# optional\n",
    "\n",
    "# all_court_data = pd.read_csv('most_recent/data_full.csv')\n",
    "\n",
    "all_court_data = all_court_data.dropna(subset=['judges_names'])\n",
    "\n",
    "all_court_data['judges_names'] = all_court_data.judges_names.apply(ast.literal_eval)\n",
    "\n",
    "all_court_data = all_court_data[~all_court_data['sex'].isin(['[null]'])]\n",
    "\n",
    "all_court_data['sex'] = all_court_data.sex.apply(lambda x: x.replace('null', '\"null\"')).apply(ast.literal_eval)\n",
    "\n",
    "all_court_data['bin_sex'] = all_court_data.apply(get_judge_sex, axis=1)\n",
    "\n",
    "all_court_data.dropna(subset=['bin_sex'], inplace=True)\n",
    "\n",
    "all_court_data.to_csv('most_recent/data_full_bs_reduced.csv')"
   ]
  }
 ],
 "metadata": {
  "kernelspec": {
   "display_name": "Python 3",
   "language": "python",
   "name": "python3"
  },
  "language_info": {
   "codemirror_mode": {
    "name": "ipython",
    "version": 3
   },
   "file_extension": ".py",
   "mimetype": "text/x-python",
   "name": "python",
   "nbconvert_exporter": "python",
   "pygments_lexer": "ipython3",
   "version": "3.7.2"
  }
 },
 "nbformat": 4,
 "nbformat_minor": 2
}
