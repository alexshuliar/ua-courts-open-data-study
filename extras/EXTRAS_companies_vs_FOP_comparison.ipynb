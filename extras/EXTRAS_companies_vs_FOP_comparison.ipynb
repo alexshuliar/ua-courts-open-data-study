{
 "cells": [
  {
   "cell_type": "code",
   "execution_count": 101,
   "metadata": {
    "colab": {},
    "colab_type": "code",
    "id": "ASGqEynd2JA-"
   },
   "outputs": [],
   "source": [
    "import numpy as np\n",
    "import pandas as pd\n",
    "import matplotlib.pyplot as plt\n",
    "import seaborn as sns; sns.set_style('whitegrid')"
   ]
  },
  {
   "cell_type": "code",
   "execution_count": 0,
   "metadata": {
    "colab": {},
    "colab_type": "code",
    "id": "8c3u9CI32Kyb"
   },
   "outputs": [],
   "source": [
    "from google.colab import drive\n",
    "drive.mount('/content/gdrive')"
   ]
  },
  {
   "cell_type": "code",
   "execution_count": 105,
   "metadata": {
    "colab": {},
    "colab_type": "code",
    "id": "TwmJ6Dip2JBX"
   },
   "outputs": [],
   "source": [
    "all_court_data = pd.read_csv('/content/gdrive/My Drive/Data/data_full.csv')\n",
    "\n",
    "all_court_data.dropna(subset=['claimant', 'defendant'], inplace=True)"
   ]
  },
  {
   "cell_type": "code",
   "execution_count": 106,
   "metadata": {
    "colab": {
     "base_uri": "https://localhost:8080/",
     "height": 34
    },
    "colab_type": "code",
    "id": "OsRSx1aC2JBg",
    "outputId": "ab9e0b07-8e2f-43dc-8794-3902c64fdc1b"
   },
   "outputs": [
    {
     "name": "stdout",
     "output_type": "stream",
     "text": [
      "FOP mean rate: 0.4482062809720688\n"
     ]
    }
   ],
   "source": [
    "# how often FOP are winning\n",
    "\n",
    "mask_claimant  = all_court_data.claimant.str.contains(r'ФОП|[Фф]ізичної особи-підприємця|[Фф]ізична особа-підприємець|ОСОБА_\\d$')\n",
    "\n",
    "mask_defendant = all_court_data.defendant.str.contains(r'ФОП|[Фф]ізичної особи-підприємця|[Фф]ізична особа-підприємець|ОСОБА_\\d$')\n",
    "\n",
    "# didn't differentiate the cases when both FOP\n",
    "fop_mean = (all_court_data[mask_claimant].outcome.mean() + (1 - all_court_data[mask_defendant].outcome.mean())) / 2\n",
    "\n",
    "print(f'FOP mean rate: {fop_mean}')"
   ]
  },
  {
   "cell_type": "code",
   "execution_count": 107,
   "metadata": {
    "colab": {
     "base_uri": "https://localhost:8080/",
     "height": 34
    },
    "colab_type": "code",
    "id": "Cu2fPe082JBu",
    "outputId": "850d7ca9-cf58-49a0-d62c-885ddd9b54e0"
   },
   "outputs": [
    {
     "name": "stdout",
     "output_type": "stream",
     "text": [
      "Companies mean rate: 0.5029558658638957\n"
     ]
    }
   ],
   "source": [
    "# same for companies\n",
    "\n",
    "companies_mean = (all_court_data[~mask_claimant].outcome.mean() + (1 - all_court_data[~mask_defendant].outcome.mean())) / 2\n",
    "\n",
    "print(f'Companies mean rate: {companies_mean}')"
   ]
  },
  {
   "cell_type": "code",
   "execution_count": 108,
   "metadata": {
    "colab": {
     "base_uri": "https://localhost:8080/",
     "height": 52
    },
    "colab_type": "code",
    "id": "Npf56sCX2JB5",
    "outputId": "02d6e274-02a9-4e9a-86e4-56510f387f93"
   },
   "outputs": [
    {
     "name": "stdout",
     "output_type": "stream",
     "text": [
      "Samples support: 3060\n",
      "outcome mean: 0.4954248366013072\n"
     ]
    }
   ],
   "source": [
    "# now let's be more specific\n",
    "# fop vs companies\n",
    "\n",
    "samples_support_fop = all_court_data[(mask_claimant) & (~mask_defendant)].outcome.count()\n",
    "mean_fop = all_court_data[(mask_claimant) & (~mask_defendant)].outcome.mean()\n",
    "\n",
    "print(f'Samples support: {samples_support_fop}')\n",
    "\n",
    "print(f'outcome mean: {mean_fop}')"
   ]
  },
  {
   "cell_type": "code",
   "execution_count": 109,
   "metadata": {
    "colab": {
     "base_uri": "https://localhost:8080/",
     "height": 52
    },
    "colab_type": "code",
    "id": "pY-SCP172JCC",
    "outputId": "d11c29da-0cb5-437d-f5dc-7710a12e9e4d"
   },
   "outputs": [
    {
     "name": "stdout",
     "output_type": "stream",
     "text": [
      "Samples support: 3292\n",
      "outcome mean: 0.6175577156743621\n"
     ]
    }
   ],
   "source": [
    "# companies vs fop\n",
    "\n",
    "samples_support_companies = all_court_data[(~mask_claimant) & (mask_defendant)].outcome.count()\n",
    "mean_companies = all_court_data[(~mask_claimant) & (mask_defendant)].outcome.mean()\n",
    "\n",
    "print(f'Samples support: {samples_support_companies}')\n",
    "\n",
    "print(f'outcome mean: {mean_companies}')"
   ]
  },
  {
   "cell_type": "code",
   "execution_count": 110,
   "metadata": {},
   "outputs": [
    {
     "data": {
      "image/png": "[encoded data removed]",
      "text/plain": [
       "<Figure size 440.375x360 with 1 Axes>"
      ]
     },
     "metadata": {},
     "output_type": "display_data"
    }
   ],
   "source": [
    "# let's visualize those proportions\n",
    "\n",
    "fops_counts = all_court_data[(mask_claimant) & (~mask_defendant)].outcome.value_counts(normalize=True).to_frame('fops')\n",
    "companies_counts = all_court_data[(~mask_claimant) & (mask_defendant)].outcome.value_counts(normalize=True).to_frame('companies')\n",
    "\n",
    "joined = fops_counts.join(companies_counts).reset_index().rename({'index':'outcome'}, axis=1)\n",
    "melted = pd.melt(joined, 'outcome', var_name='party_type', value_name='count')\n",
    "\n",
    "melted['outcome'] = melted.outcome.map({0: 'Refusal', 1:'Approval'}) \n",
    "\n",
    "with sns.color_palette('viridis', n_colors=2):\n",
    "    sns.catplot(x='party_type', y='count', hue='outcome', data=melted, kind='bar');\n",
    "    plt.title('Outcome rate: FOPs vs companies')\n",
    "    plt.ylabel('outcome_rate')"
   ]
  },
  {
   "cell_type": "code",
   "execution_count": 16,
   "metadata": {
    "colab": {
     "base_uri": "https://localhost:8080/",
     "height": 104
    },
    "colab_type": "code",
    "id": "eNo4q_1b2JCM",
    "outputId": "47e957d7-fb66-4395-dd8d-4e64bebd7557"
   },
   "outputs": [
    {
     "name": "stdout",
     "output_type": "stream",
     "text": [
      "Samples support FOP: 3679\n",
      "mean duration: 200.34139711878228\n",
      "\n",
      "Samples support companies: 65632\n",
      "mean duration: 164.55267247684057\n"
     ]
    }
   ],
   "source": [
    "# mean durations\n",
    "\n",
    "samples_support_fop = all_court_data[(mask_claimant)].outcome.count()\n",
    "mean_fop = all_court_data[(mask_claimant)].duration_days.mean()\n",
    "\n",
    "print(f'Samples support FOP: {samples_support_fop}')\n",
    "\n",
    "print(f'mean duration: {mean_fop}')\n",
    "print()\n",
    "\n",
    "samples_support_companies = all_court_data[(~mask_claimant)].outcome.count()\n",
    "mean_companies = all_court_data[(~mask_claimant)].duration_days.mean()\n",
    "\n",
    "print(f'Samples support companies: {samples_support_companies}')\n",
    "\n",
    "print(f'mean duration: {mean_companies}')"
   ]
  },
  {
   "cell_type": "code",
   "execution_count": 100,
   "metadata": {},
   "outputs": [
    {
     "data": {
      "image/png": "[encoded data removed]",
      "text/plain": [
       "<Figure size 432x288 with 1 Axes>"
      ]
     },
     "metadata": {
      "needs_background": "light"
     },
     "output_type": "display_data"
    }
   ],
   "source": [
    "# however for duration with boxplot we see that median values are near the same\n",
    "# on the plot we've turned off option that shows outliers\n",
    "# on the original boxplot it turns out that companies have more outliers which may be the reason why mean value differs\n",
    "\n",
    "fops_days = all_court_data[(mask_claimant) & (~mask_defendant)].duration_days\n",
    "companies_days = all_court_data[(~mask_claimant) & (mask_defendant)].duration_days\n",
    "\n",
    "fops_df = pd.DataFrame({'party_type': ['fop'] * len(fops_days), 'duration_days': fops_days})\n",
    "companies_df = pd.DataFrame({'party_type': ['company'] * len(companies_days), 'duration_days': companies_days})\n",
    "\n",
    "combined = pd.concat([fops_df, companies_df], ignore_index=True)\n",
    "\n",
    "with sns.color_palette('viridis', n_colors=2):\n",
    "    sns.boxplot(x='party_type', y='duration_days', data=combined, showfliers=False);"
   ]
  },
  {
   "cell_type": "code",
   "execution_count": null,
   "metadata": {},
   "outputs": [],
   "source": [
    "\n",
    "with sns.color_palette('viridis', n_colors=2):\n",
    "    sns.catplot(x='party_type', y='count', hue='outcome', data=combined, kind='bar');"
   ]
  },
  {
   "cell_type": "code",
   "execution_count": 0,
   "metadata": {
    "colab": {},
    "colab_type": "code",
    "id": "AE8ODOm32JCa"
   },
   "outputs": [],
   "source": [
    "fops = all_court_data[(mask_claimant) & (~mask_defendant)].outcome\n",
    "\n",
    "companies = all_court_data[(~mask_claimant) & (mask_defendant)].outcome"
   ]
  },
  {
   "cell_type": "markdown",
   "metadata": {
    "colab_type": "text",
    "id": "VLxMcQyt2JCq"
   },
   "source": [
    "## Trying frequenist apporach to compare difference in means"
   ]
  },
  {
   "cell_type": "code",
   "execution_count": 0,
   "metadata": {
    "colab": {},
    "colab_type": "code",
    "id": "e72ZqCW72JCu",
    "outputId": "78e007e8-dc2d-46ba-ff0a-5bfbe15f6ac6"
   },
   "outputs": [
    {
     "name": "stdout",
     "output_type": "stream",
     "text": [
      "z-statistics: -9.858255438302761\n",
      "p_value: 6.313681531027556e-23\n"
     ]
    }
   ],
   "source": [
    "from statsmodels.stats.weightstats import CompareMeans, DescrStatsW\n",
    "\n",
    "d1 = DescrStatsW(fops)\n",
    "d2 = DescrStatsW(companies)\n",
    "\n",
    "z_statistics, p_value = CompareMeans(d1, d2).ztest_ind(usevar='unequal')\n",
    "\n",
    "print(f'z-statistics: {z_statistics}')\n",
    "print(f'p_value: {p_value}')"
   ]
  },
  {
   "cell_type": "code",
   "execution_count": 0,
   "metadata": {
    "colab": {},
    "colab_type": "code",
    "id": "XaNNNTvF2JC-",
    "outputId": "5b1b8354-3ec8-4805-bec6-a752df87af35"
   },
   "outputs": [
    {
     "data": {
      "text/plain": [
       "-9.688030256548734"
      ]
     },
     "execution_count": 92,
     "metadata": {
      "tags": []
     },
     "output_type": "execute_result"
    }
   ],
   "source": [
    "# let's verify our results with the formula we know is used for paired t-test\n",
    "\n",
    "t = (fops.mean() - companies.mean()) / np.sqrt(fops.var()/len(fops) + companies.var()/len(fops))\n",
    "\n",
    "print(t) # and it's very close"
   ]
  },
  {
   "cell_type": "code",
   "execution_count": 0,
   "metadata": {
    "colab": {},
    "colab_type": "code",
    "id": "0eHoU4zy2JDI"
   },
   "outputs": [],
   "source": [
    "# computing confidence intervals for both mean values\n",
    "\n",
    "from statsmodels.stats.proportion import proportion_confint\n",
    "\n",
    "fops_ci = proportion_confint(fops.sum(), len(fops))\n",
    "companies_ci = proportion_confint(companies.sum(), len(companies))"
   ]
  },
  {
   "cell_type": "code",
   "execution_count": 0,
   "metadata": {
    "colab": {},
    "colab_type": "code",
    "id": "KwM6m_dl2JDQ",
    "outputId": "af48fc4f-85b6-44d7-a286-be92811b3184"
   },
   "outputs": [
    {
     "data": {
      "image/png": "[encoded data removed]",
      "text/plain": [
       "<Figure size 720x360 with 1 Axes>"
      ]
     },
     "metadata": {
      "needs_background": "light",
      "tags": []
     },
     "output_type": "display_data"
    }
   ],
   "source": [
    "# let's build some visual intuition\n",
    "# comparing both mean values confidence intervals we see that they're not overlapping and have a huge distance\n",
    "\n",
    "plt.figure(figsize=(10, 5))\n",
    "plt.plot([1, 1], [fops_ci[0], fops_ci[1]])\n",
    "plt.plot([2, 2], [companies_ci[0], companies_ci[1]])\n",
    "plt.scatter([1, 2], [fops.mean(), companies.mean()])\n",
    "plt.xticks(ticks=[1, 2], labels=['FOP', 'Companies']);\n",
    "\n",
    "plt.title('Mean values and confidence intervals for FOP/Companies outcome rates')\n",
    "plt.ylabel('Mean values');"
   ]
  },
  {
   "cell_type": "markdown",
   "metadata": {
    "colab_type": "text",
    "id": "JIsnCv8Z2JDY"
   },
   "source": [
    "## Using hackers statistics and simulations"
   ]
  },
  {
   "cell_type": "code",
   "execution_count": 0,
   "metadata": {
    "colab": {},
    "colab_type": "code",
    "id": "YwGf1Gxo2JDa"
   },
   "outputs": [],
   "source": [
    "def permutation_sample(data1, data2):\n",
    "    \"\"\"Generate a permutation sample from two data sets.\"\"\"\n",
    "\n",
    "    # combine both data arrays\n",
    "    data = np.concatenate((data1, data2))\n",
    "\n",
    "    # permute\n",
    "    permuted_data = np.random.permutation(data)\n",
    "\n",
    "    # split permuted array into both datasets initial sizes\n",
    "    perm_sample_1 = permuted_data[:len(data1)]\n",
    "    perm_sample_2 = permuted_data[len(data1):]\n",
    "\n",
    "    return perm_sample_1, perm_sample_2"
   ]
  },
  {
   "cell_type": "code",
   "execution_count": 0,
   "metadata": {
    "colab": {},
    "colab_type": "code",
    "id": "Gt9PM5Pq2JDh"
   },
   "outputs": [],
   "source": [
    "def draw_perm_reps(data_1, data_2, func, size=1):\n",
    "    \"\"\"Generate multiple permutation replicates.\"\"\"\n",
    "\n",
    "    # init array to store replicates\n",
    "    perm_replicates = np.empty(size)\n",
    "\n",
    "    for i in range(size):\n",
    "        # generate permutation sample\n",
    "        perm_sample_1, perm_sample_2 = permutation_sample(data_1, data_2)\n",
    "\n",
    "        # compute the test statistic\n",
    "        perm_replicates[i] = func(perm_sample_1, perm_sample_2)\n",
    "\n",
    "    return perm_replicates"
   ]
  },
  {
   "cell_type": "code",
   "execution_count": 0,
   "metadata": {
    "colab": {},
    "colab_type": "code",
    "id": "fcg23Opf2JDr"
   },
   "outputs": [],
   "source": [
    "def diff_of_means(data_1, data_2):\n",
    "    \"\"\"Difference in means of two arrays.\"\"\"\n",
    "\n",
    "    diff = np.mean(data_1) - np.mean(data_2)\n",
    "\n",
    "    return diff"
   ]
  },
  {
   "cell_type": "code",
   "execution_count": 0,
   "metadata": {
    "colab": {},
    "colab_type": "code",
    "id": "d7OSgpYD2JD1",
    "outputId": "079ac74c-79b9-444b-904e-ceb1ba6a49b2"
   },
   "outputs": [
    {
     "name": "stdout",
     "output_type": "stream",
     "text": [
      "p-value = 0.0\n"
     ]
    }
   ],
   "source": [
    "# compute difference of mean in our dataset\n",
    "empirical_diff_means = (diff_of_means(companies, fops))\n",
    "\n",
    "# applying the function and drawing 10 000 permutation replicates\n",
    "perm_replicates = draw_perm_reps(companies, fops,\n",
    "                                 diff_of_means, size=10000)\n",
    "\n",
    "# compute p-value\n",
    "p = np.sum(perm_replicates >= empirical_diff_means) / len(perm_replicates)\n",
    "\n",
    "# after computing our p-value we see that it is exactly zero\n",
    "# this means that from 10 000 trials we've reached NO larger or equal difference at all\n",
    "print('p-value =', p)"
   ]
  },
  {
   "cell_type": "code",
   "execution_count": 0,
   "metadata": {
    "colab": {},
    "colab_type": "code",
    "id": "-7n2RIRP2JEH",
    "outputId": "e6183bd9-dc8e-4a17-b38a-c76737a28c7a"
   },
   "outputs": [
    {
     "data": {
      "image/png": "[encoded data removed]",
      "text/plain": [
       "<Figure size 720x360 with 1 Axes>"
      ]
     },
     "metadata": {
      "needs_background": "light",
      "tags": []
     },
     "output_type": "display_data"
    }
   ],
   "source": [
    "# some visual explanation why this happens\n",
    "\n",
    "def ecdf(data):\n",
    "    \"\"\"Compute ECDF for a one-dimensional array of measurements.\"\"\"\n",
    "\n",
    "    n = len(data)\n",
    "\n",
    "    x = np.sort(data)\n",
    "    y = np.arange(1, n+1) / n\n",
    "\n",
    "    return x, y\n",
    "\n",
    "\n",
    "x, y = ecdf(perm_replicates)\n",
    "\n",
    "# our difference in means not even close to values with lowest probability from our permutation_replicates\n",
    "plt.figure(figsize=(10, 5))\n",
    "plt.plot(x, y, marker='.', linestyle='none')\n",
    "plt.vlines(empirical_diff_means, linestyle='--', ymin=0, ymax=1);"
   ]
  },
  {
   "cell_type": "code",
   "execution_count": 0,
   "metadata": {
    "colab": {},
    "colab_type": "code",
    "id": "nZN8Szug2JEe",
    "outputId": "140f913b-57e1-45bf-b82a-d663e5fb06d7"
   },
   "outputs": [
    {
     "name": "stdout",
     "output_type": "stream",
     "text": [
      "p-value = 0.0\n"
     ]
    }
   ],
   "source": [
    "# using bootstraping with two datasets instead of permutation that we used before for difference in means\n",
    "\n",
    "empirical_diff_means = diff_of_means(companies, fops)\n",
    "\n",
    "comapnies_and_fops = np.concatenate((companies, fops))\n",
    "\n",
    "# initialize empty array for bootstrap replicates\n",
    "bs_replicates = np.empty(10000)\n",
    "\n",
    "for i in range(10000):\n",
    "    # generate bootstrap sample\n",
    "    bs_sample = np.random.choice(comapnies_and_fops, size=len(comapnies_and_fops))\n",
    "    \n",
    "    # compute replicate\n",
    "    bs_replicates[i] = diff_of_means(bs_sample[:len(companies)],\n",
    "                                     bs_sample[len(fops):])\n",
    "\n",
    "# computing p-value and again we have zero\n",
    "p = np.sum(bs_replicates > empirical_diff_means) / len(bs_replicates)\n",
    "print('p-value =', p)"
   ]
  },
  {
   "cell_type": "markdown",
   "metadata": {
    "colab_type": "text",
    "id": "6jERVf9T2JEr"
   },
   "source": [
    "## Bayesian approach and Monte Carlo simulations"
   ]
  },
  {
   "cell_type": "code",
   "execution_count": 18,
   "metadata": {
    "colab": {
     "base_uri": "https://localhost:8080/",
     "height": 72
    },
    "colab_type": "code",
    "id": "dZI8zmqt2JEu",
    "outputId": "31fa807d-fe14-4ae8-8502-c0fe7a86c96d"
   },
   "outputs": [
    {
     "name": "stderr",
     "output_type": "stream",
     "text": [
      "WARNING:pystan:DeprecationWarning: pystan.stan was deprecated in version 2.17 and will be removed in version 3.0. Compile and use a Stan program in separate steps.\n",
      "INFO:pystan:COMPILING THE C++ CODE FOR MODEL anon_model_cebd754f94b17301a427ca1b00978dc0 NOW.\n"
     ]
    }
   ],
   "source": [
    "# we'll be using pystan to run our Monte Carlo simulations\n",
    "\n",
    "import pystan\n",
    "\n",
    "# The Stan model as a string.\n",
    "model_string = \"\"\"\n",
    "# Here we define the data we are going to pass into the model\n",
    "data {\n",
    "  int n1; # Number of trials\n",
    "  int n2; # Number of trials\n",
    "  int s1;  # Number of successes\n",
    "  int s2;  # Number of successes\n",
    "}\n",
    "\n",
    "# Here we define what 'unknowns' aka parameters we have.\n",
    "parameters {\n",
    "  real<lower=0, upper=1> rate_1;\n",
    "  real<lower=0, upper=1> rate_2;\n",
    "}\n",
    "\n",
    "# The generative model\n",
    "# actually need to switch some order here - look to the solution for correct use, anyway Stan handled the issue\n",
    "model {\n",
    "  rate_1 ~ uniform(0, 1);\n",
    "  s1 ~ binomial(n1, rate_1);\n",
    "\n",
    "  rate_2 ~ uniform(0, 1);\n",
    "  s2 ~ binomial(n2, rate_2);\n",
    "}\n",
    "\n",
    "# In the generated quantiles block you can calculate 'derivatives' of\n",
    "# the parameters. Here is a silly example calculating the square of the \n",
    "# rate. Variables have to be defined before they are assigned to.\n",
    "generated quantities {\n",
    "  real diff_rate;\n",
    "  diff_rate <- rate_1 - rate_2;\n",
    "}\n",
    "\"\"\"\n",
    "\n",
    "# number of trials\n",
    "n_companies = len(companies)\n",
    "n_fops = len(fops)\n",
    "\n",
    "# number of successes in n trials\n",
    "companies_successes = int(companies.sum())\n",
    "fops_successes = int(fops.sum())\n",
    "\n",
    "data_list = dict(n1=n_companies, n2=n_fops,  s1=companies_successes, s2=fops_successes)\n",
    "\n",
    "# Compiling and producing posterior samples from the model.\n",
    "stan_samples = pystan.stan(model_code=model_string, data=data_list)"
   ]
  },
  {
   "cell_type": "code",
   "execution_count": 19,
   "metadata": {
    "colab": {
     "base_uri": "https://localhost:8080/",
     "height": 260
    },
    "colab_type": "code",
    "id": "XoA8TWKA2JE5",
    "outputId": "bddfc2f7-bdbe-4ffd-c246-ebc956fa2953"
   },
   "outputs": [
    {
     "name": "stdout",
     "output_type": "stream",
     "text": [
      "Inference for Stan model: anon_model_cebd754f94b17301a427ca1b00978dc0.\n",
      "4 chains, each with iter=2000; warmup=1000; thin=1; \n",
      "post-warmup draws per chain=1000, total post-warmup draws=4000.\n",
      "\n",
      "            mean se_mean     sd   2.5%    25%    50%    75%  97.5%  n_eff   Rhat\n",
      "rate_1      0.62  1.5e-4 8.6e-3    0.6   0.61   0.62   0.62   0.63   3207    1.0\n",
      "rate_2       0.5  1.6e-4 9.0e-3   0.48   0.49    0.5    0.5   0.51   3289    1.0\n",
      "diff_rate   0.12  2.2e-4   0.01    0.1   0.11   0.12   0.13   0.15   3266    1.0\n",
      "lp__       -4314    0.02    1.0  -4317  -4315  -4314  -4314  -4313   1813    1.0\n",
      "\n",
      "Samples were drawn using NUTS at Wed May 22 14:12:12 2019.\n",
      "For each parameter, n_eff is a crude measure of effective sample size,\n",
      "and Rhat is the potential scale reduction factor on split chains (at \n",
      "convergence, Rhat=1).\n"
     ]
    }
   ],
   "source": [
    "# summary table\n",
    "\n",
    "print(stan_samples)"
   ]
  },
  {
   "cell_type": "code",
   "execution_count": 0,
   "metadata": {
    "colab": {},
    "colab_type": "code",
    "id": "AZyF2vak4cUt"
   },
   "outputs": [],
   "source": [
    "# extracting our posterior distribution to dataframe\n",
    "\n",
    "posterior = pd.DataFrame(stan_samples.extract())"
   ]
  },
  {
   "cell_type": "code",
   "execution_count": 21,
   "metadata": {
    "colab": {
     "base_uri": "https://localhost:8080/",
     "height": 562
    },
    "colab_type": "code",
    "id": "PoBehNjK4fFG",
    "outputId": "9e94b127-73ef-4f53-8b56-abb09442dcb0"
   },
   "outputs": [
    {
     "name": "stderr",
     "output_type": "stream",
     "text": [
      "WARNING:pystan:Deprecation warning. In future, use ArviZ library (`pip install arviz`)\n"
     ]
    },
    {
     "data": {
      "image/png": "[encoded data removed]",
      "text/plain": [
       "<Figure size 432x288 with 6 Axes>"
      ]
     },
     "execution_count": 21,
     "metadata": {
      "tags": []
     },
     "output_type": "execute_result"
    },
    {
     "data": {
      "image/png": "[encoded data removed]",
      "text/plain": [
       "<Figure size 432x288 with 6 Axes>"
      ]
     },
     "metadata": {
      "tags": []
     },
     "output_type": "display_data"
    }
   ],
   "source": [
    "# plotting simulated distributions for fops, companies and posterior distributions for difference in means\n",
    "\n",
    "stan_samples.plot()"
   ]
  },
  {
   "cell_type": "code",
   "execution_count": 24,
   "metadata": {
    "colab": {
     "base_uri": "https://localhost:8080/",
     "height": 34
    },
    "colab_type": "code",
    "id": "g9ye4lfg4yFg",
    "outputId": "2dcb445e-f840-4f39-b1ac-19f7c7b280c0"
   },
   "outputs": [
    {
     "name": "stdout",
     "output_type": "stream",
     "text": [
      "Percent where simulated data has difference in means above zero: 100.0%\n"
     ]
    }
   ],
   "source": [
    "# all of the samples have difference in means above zero, which means that we have statistically significant result\n",
    "\n",
    "print(f'Percent where simulated data has difference in means above zero: {sum(posterior.diff_rate > 0) / len(posterior.diff_rate) * 100}%')"
   ]
  },
  {
   "cell_type": "code",
   "execution_count": 25,
   "metadata": {
    "colab": {
     "base_uri": "https://localhost:8080/",
     "height": 206
    },
    "colab_type": "code",
    "id": "THWJmsxg4h3M",
    "outputId": "92eadf3f-1eb0-4237-b5f0-b600cfa2b8d9"
   },
   "outputs": [
    {
     "data": {
      "text/html": [
       "<div>\n",
       "<style scoped>\n",
       "    .dataframe tbody tr th:only-of-type {\n",
       "        vertical-align: middle;\n",
       "    }\n",
       "\n",
       "    .dataframe tbody tr th {\n",
       "        vertical-align: top;\n",
       "    }\n",
       "\n",
       "    .dataframe thead th {\n",
       "        text-align: right;\n",
       "    }\n",
       "</style>\n",
       "<table border=\"1\" class=\"dataframe\">\n",
       "  <thead>\n",
       "    <tr style=\"text-align: right;\">\n",
       "      <th></th>\n",
       "      <th>rate_1</th>\n",
       "      <th>rate_2</th>\n",
       "      <th>diff_rate</th>\n",
       "      <th>lp__</th>\n",
       "    </tr>\n",
       "  </thead>\n",
       "  <tbody>\n",
       "    <tr>\n",
       "      <th>0</th>\n",
       "      <td>0.626296</td>\n",
       "      <td>0.467099</td>\n",
       "      <td>0.159197</td>\n",
       "      <td>-4319.195950</td>\n",
       "    </tr>\n",
       "    <tr>\n",
       "      <th>1</th>\n",
       "      <td>0.615073</td>\n",
       "      <td>0.516065</td>\n",
       "      <td>0.099007</td>\n",
       "      <td>-4316.375152</td>\n",
       "    </tr>\n",
       "    <tr>\n",
       "      <th>2</th>\n",
       "      <td>0.616994</td>\n",
       "      <td>0.509681</td>\n",
       "      <td>0.107313</td>\n",
       "      <td>-4314.971241</td>\n",
       "    </tr>\n",
       "    <tr>\n",
       "      <th>3</th>\n",
       "      <td>0.613667</td>\n",
       "      <td>0.477572</td>\n",
       "      <td>0.136095</td>\n",
       "      <td>-4315.781319</td>\n",
       "    </tr>\n",
       "    <tr>\n",
       "      <th>4</th>\n",
       "      <td>0.623093</td>\n",
       "      <td>0.499783</td>\n",
       "      <td>0.123311</td>\n",
       "      <td>-4314.061399</td>\n",
       "    </tr>\n",
       "  </tbody>\n",
       "</table>\n",
       "</div>"
      ],
      "text/plain": [
       "     rate_1    rate_2  diff_rate         lp__\n",
       "0  0.626296  0.467099   0.159197 -4319.195950\n",
       "1  0.615073  0.516065   0.099007 -4316.375152\n",
       "2  0.616994  0.509681   0.107313 -4314.971241\n",
       "3  0.613667  0.477572   0.136095 -4315.781319\n",
       "4  0.623093  0.499783   0.123311 -4314.061399"
      ]
     },
     "execution_count": 25,
     "metadata": {
      "tags": []
     },
     "output_type": "execute_result"
    }
   ],
   "source": [
    "# example of generated data\n",
    "\n",
    "posterior.head()"
   ]
  },
  {
   "cell_type": "code",
   "execution_count": 26,
   "metadata": {
    "colab": {
     "base_uri": "https://localhost:8080/",
     "height": 34
    },
    "colab_type": "code",
    "id": "wlv3kdnT4jkQ",
    "outputId": "829b96cb-c741-42ae-bd53-b0661f581d0c"
   },
   "outputs": [
    {
     "data": {
      "text/plain": [
       "0.12194277669833574"
      ]
     },
     "execution_count": 26,
     "metadata": {
      "tags": []
     },
     "output_type": "execute_result"
    }
   ],
   "source": [
    "# posterior distribution difference in means - almost the same difference as in our dataset\n",
    "\n",
    "posterior.diff_rate.mean()"
   ]
  },
  {
   "cell_type": "code",
   "execution_count": 38,
   "metadata": {
    "colab": {
     "base_uri": "https://localhost:8080/",
     "height": 269
    },
    "colab_type": "code",
    "id": "4GisxqTy4lGc",
    "outputId": "e60c458f-5340-427e-8d3a-926c44822eff"
   },
   "outputs": [
    {
     "data": {
      "image/png": "[encoded data removed]",
      "text/plain": [
       "<Figure size 432x288 with 1 Axes>"
      ]
     },
     "metadata": {
      "tags": []
     },
     "output_type": "display_data"
    }
   ],
   "source": [
    "# histogram of our posterior distribution for difference in means, as we see, there is no way to get less than 0.08 difference in means\n",
    "\n",
    "posterior.diff_rate.plot.hist();"
   ]
  },
  {
   "cell_type": "code",
   "execution_count": 46,
   "metadata": {
    "colab": {
     "base_uri": "https://localhost:8080/",
     "height": 34
    },
    "colab_type": "code",
    "id": "y8zKEsmi9jxg",
    "outputId": "c9d0ba4b-b1f1-40ea-cccd-73948e723a8b"
   },
   "outputs": [
    {
     "name": "stdout",
     "output_type": "stream",
     "text": [
      "Number of draws: 4000, Posterior median: 0.122, Posterior 95 percent quantile interval: 0.098-0.146\n"
     ]
    }
   ],
   "source": [
    "# summary: number of draws, median and 95% interval\n",
    "# so we can say that we're 95% confident that our difference in means is between 0.098 and 0.146\n",
    "\n",
    "print('Number of draws: %d, Posterior median: %.3f, Posterior 95 percent quantile interval: %.3f-%.3f' % \n",
    "      (len(posterior), posterior.diff_rate.median(), posterior.diff_rate.quantile(.025), posterior.diff_rate.quantile(.975)))"
   ]
  },
  {
   "cell_type": "markdown",
   "metadata": {
    "colab_type": "text",
    "id": "ECMWRPQx6mSU"
   },
   "source": [
    "## Trying out different approaches we end up with same results that clearly state that we have statistically significant difference in mean values. Thus, we might suggest that companies indeed have higher chance to win in a court trial, than FOPs. "
   ]
  }
 ],
 "metadata": {
  "accelerator": "GPU",
  "colab": {
   "collapsed_sections": [],
   "name": "EXTRAS_open_data_companies_vs_FOP_comparison.ipynb",
   "provenance": [],
   "version": "0.3.2"
  },
  "kernelspec": {
   "display_name": "Python 3",
   "language": "python",
   "name": "python3"
  },
  "language_info": {
   "codemirror_mode": {
    "name": "ipython",
    "version": 3
   },
   "file_extension": ".py",
   "mimetype": "text/x-python",
   "name": "python",
   "nbconvert_exporter": "python",
   "pygments_lexer": "ipython3",
   "version": "3.7.2"
  }
 },
 "nbformat": 4,
 "nbformat_minor": 1
}
