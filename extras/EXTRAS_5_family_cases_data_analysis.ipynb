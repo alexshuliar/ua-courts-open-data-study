{
 "cells": [
  {
   "cell_type": "code",
   "execution_count": 0,
   "metadata": {
    "colab": {},
    "colab_type": "code",
    "id": "UxehhlX1KM5n"
   },
   "outputs": [],
   "source": [
    "import sqlalchemy\n",
    "import pandas as pd\n",
    "import numpy as np\n",
    "import re\n",
    "import os\n",
    "import sqlite3\n",
    "import ast\n",
    "import matplotlib.pyplot as plt\n",
    "import seaborn as sns; sns.set_style('whitegrid')"
   ]
  },
  {
   "cell_type": "code",
   "execution_count": 0,
   "metadata": {
    "colab": {
     "base_uri": "https://localhost:8080/",
     "height": 124
    },
    "colab_type": "code",
    "id": "Nc7nPTHlc-X9",
    "outputId": "e84fafef-1319-4007-8246-0a4be43701a5"
   },
   "outputs": [
    {
     "name": "stdout",
     "output_type": "stream",
     "text": [
      "Go to this URL in a browser: https://accounts.google.com/o/oauth2/auth?client_id=947318989803-6bn6qk8qdgf4n4g3pfee6491hc0brc4i.apps.googleusercontent.com&redirect_uri=urn%3Aietf%3Awg%3Aoauth%3A2.0%3Aoob&scope=email%20https%3A%2F%2Fwww.googleapis.com%2Fauth%2Fdocs.test%20https%3A%2F%2Fwww.googleapis.com%2Fauth%2Fdrive%20https%3A%2F%2Fwww.googleapis.com%2Fauth%2Fdrive.photos.readonly%20https%3A%2F%2Fwww.googleapis.com%2Fauth%2Fpeopleapi.readonly&response_type=code\n",
      "\n",
      "Enter your authorization code:\n",
      "··········\n",
      "Mounted at /content/gdrive\n"
     ]
    }
   ],
   "source": [
    "from google.colab import drive\n",
    "drive.mount('/content/gdrive')"
   ]
  },
  {
   "cell_type": "code",
   "execution_count": 0,
   "metadata": {
    "colab": {},
    "colab_type": "code",
    "id": "0c5TehYMcuWy"
   },
   "outputs": [],
   "source": [
    "os.chdir('/content/gdrive/My Drive/Data/')"
   ]
  },
  {
   "cell_type": "code",
   "execution_count": 0,
   "metadata": {
    "colab": {},
    "colab_type": "code",
    "id": "rHZ3C-jzpSV6"
   },
   "outputs": [],
   "source": [
    "text_merged = pd.read_csv('text_merged.csv')"
   ]
  },
  {
   "cell_type": "markdown",
   "metadata": {
    "colab_type": "text",
    "id": "qIrXgLSoiKLH"
   },
   "source": [
    "## Working with extracted data"
   ]
  },
  {
   "cell_type": "code",
   "execution_count": 0,
   "metadata": {
    "colab": {},
    "colab_type": "code",
    "id": "4RpxWuQrB63Y"
   },
   "outputs": [],
   "source": [
    "family_cases = pd.read_csv('family_cases_features.txt', ';', header=None)\n",
    "family_cases.columns = ['id', 'outcome', 'outcomeFull', 'length', 'n_judges', 'judges_names', 'sex']\n",
    "\n",
    "family_decisions = pd.read_csv('family_cases_1819.csv')"
   ]
  },
  {
   "cell_type": "code",
   "execution_count": 0,
   "metadata": {
    "colab": {},
    "colab_type": "code",
    "id": "cackir7NTn8U"
   },
   "outputs": [],
   "source": [
    "aliments_df = pd.read_csv('aliments_texts.csv')"
   ]
  },
  {
   "cell_type": "code",
   "execution_count": 0,
   "metadata": {
    "colab": {
     "base_uri": "https://localhost:8080/",
     "height": 34
    },
    "colab_type": "code",
    "id": "TVdfuMe1VDQS",
    "outputId": "452a524c-1ef4-4bb4-d3f3-c95ee2e92efe"
   },
   "outputs": [
    {
     "data": {
      "text/plain": [
       "(81509, 16)"
      ]
     },
     "execution_count": 9,
     "metadata": {
      "tags": []
     },
     "output_type": "execute_result"
    }
   ],
   "source": [
    "fc_df = pd.merge(family_cases, family_decisions, left_on='id', right_on='doc_id').drop(['receipt_date', 'doc_url', 'status', \n",
    "                                                                                'date_publ', 'j_form_name', 'j_kind_name', 'doc_id'], axis=1)\n",
    "\n",
    "aliments_merged = pd.merge(fc_df, aliments_df)\n",
    "\n",
    "aliments_merged.shape"
   ]
  },
  {
   "cell_type": "code",
   "execution_count": 0,
   "metadata": {
    "colab": {
     "base_uri": "https://localhost:8080/",
     "height": 382
    },
    "colab_type": "code",
    "id": "JVnPocfuCPHV",
    "outputId": "f36f23d2-e7fd-4ea1-dd77-bf9c367e5418"
   },
   "outputs": [
    {
     "name": "stdout",
     "output_type": "stream",
     "text": [
      "<class 'pandas.core.frame.DataFrame'>\n",
      "Int64Index: 81509 entries, 0 to 81508\n",
      "Data columns (total 16 columns):\n",
      "id                   81509 non-null float64\n",
      "outcome              81509 non-null object\n",
      "outcomeFull          81500 non-null object\n",
      "length               81509 non-null float64\n",
      "n_judges             79182 non-null float64\n",
      "judges_names         79182 non-null object\n",
      "sex                  79182 non-null object\n",
      "court_code           81509 non-null int64\n",
      "judgment_code        81509 non-null float64\n",
      "justice_kind         81509 non-null float64\n",
      "category_code        81509 non-null float64\n",
      "cause_num            81500 non-null object\n",
      "adjudication_date    81509 non-null object\n",
      "judge                81509 non-null object\n",
      "category_name        81509 non-null object\n",
      "text                 81509 non-null object\n",
      "dtypes: float64(6), int64(1), object(9)\n",
      "memory usage: 10.6+ MB\n"
     ]
    }
   ],
   "source": [
    "aliments_merged.info()"
   ]
  },
  {
   "cell_type": "code",
   "execution_count": 0,
   "metadata": {
    "colab": {},
    "colab_type": "code",
    "id": "WXqOHWL4WxBE"
   },
   "outputs": [],
   "source": [
    "aliments_merged.dropna(inplace=True)"
   ]
  },
  {
   "cell_type": "code",
   "execution_count": 0,
   "metadata": {
    "colab": {},
    "colab_type": "code",
    "id": "iT3Q9c243Y0d"
   },
   "outputs": [],
   "source": [
    "def get_outcome(row):\n",
    "    try:\n",
    "        \n",
    "        doc_id = row.id\n",
    "        outcomes_list = [case for case in row.outcomeFull if float(case['id']) == doc_id][0]['outcomeFull']\n",
    "\n",
    "        outcome = 0\n",
    "\n",
    "        for i in outcomes_list:\n",
    "            if i in ['Відмовлено у задоволенні скарги', 'Рішення залишено без змін', 'Відмовлено у задоволенні позову']:\n",
    "                outcome += 0\n",
    "            elif i in ['Позов задоволено', 'Скарга задоволена', 'Позов задоволено частково', 'Накладено стягнення']:\n",
    "                outcome += 1\n",
    "        \n",
    "        if outcome >= 2: # to handle cases like  ['Позов задоволено частково', 'Скарга задоволена']\n",
    "                        # was == 2, but not > 2 to handle cases like ['Позов задоволено', 'Скарга задоволена', 'Накладено стягнення']\n",
    "            outcome = 1\n",
    "        return outcome\n",
    "    \n",
    "    except IndexError:\n",
    "        \n",
    "        return None"
   ]
  },
  {
   "cell_type": "code",
   "execution_count": 0,
   "metadata": {
    "colab": {},
    "colab_type": "code",
    "id": "lmMPTw0AepUb"
   },
   "outputs": [],
   "source": [
    "def get_judge_sex(row):\n",
    "    try:\n",
    "        stemmed_names = []\n",
    "        for name in row.judges_names:\n",
    "            shorten = ' '.join([j[0]+'.' if i == 1 or i == 2 else j for i, j in enumerate(name.split())])\n",
    "            stemmed_names.append(shorten)\n",
    "\n",
    "        idx = [stemmed_names.index(judge) for judge in stemmed_names if judge.replace(' ', '') == row.judge.replace(' ', '')][0]\n",
    "\n",
    "        return 0 if row.sex[idx] == 'чоловік' else 1\n",
    "    \n",
    "    except IndexError:\n",
    "        return None"
   ]
  },
  {
   "cell_type": "code",
   "execution_count": 0,
   "metadata": {
    "colab": {},
    "colab_type": "code",
    "id": "rv8WwRXIXAPk"
   },
   "outputs": [],
   "source": [
    "family_durations = pd.read_csv('family_cases_duration.csv')"
   ]
  },
  {
   "cell_type": "code",
   "execution_count": 0,
   "metadata": {
    "colab": {},
    "colab_type": "code",
    "id": "tdhxcBxUXMdQ"
   },
   "outputs": [],
   "source": [
    "courts = pd.read_csv('courts.csv', '\\t')\n",
    "instances = pd.read_csv('instances.csv', '\\t')"
   ]
  },
  {
   "cell_type": "code",
   "execution_count": 0,
   "metadata": {
    "colab": {},
    "colab_type": "code",
    "id": "1w_U5N-KYbxI"
   },
   "outputs": [],
   "source": [
    "aliments_merged = pd.merge(aliments_merged, pd.merge(courts, instances, on='instance_code')).rename({'name_x': 'court_name',\n",
    "                                                                                  'name_y': 'instance'}, axis=1)"
   ]
  },
  {
   "cell_type": "code",
   "execution_count": 0,
   "metadata": {
    "colab": {},
    "colab_type": "code",
    "id": "meroJXMBYZwq"
   },
   "outputs": [],
   "source": [
    "# getting durations instance-wise\n",
    "\n",
    "aliments_merged = pd.merge(aliments_merged, family_durations, \n",
    "                           left_on=['cause_num', 'instance'], right_on=['cause_num', 'name_y'])"
   ]
  },
  {
   "cell_type": "code",
   "execution_count": 0,
   "metadata": {
    "colab": {},
    "colab_type": "code",
    "id": "g2JCX2YvSeuZ"
   },
   "outputs": [],
   "source": [
    "aliments_merged['duration_days'] = aliments_merged.adjudication_date_y.apply(lambda x: pd.to_timedelta(x).days)\n",
    "aliments_merged.drop(['name_y', 'adjudication_date_y'], axis=1, inplace=True)"
   ]
  },
  {
   "cell_type": "code",
   "execution_count": 0,
   "metadata": {
    "colab": {
     "base_uri": "https://localhost:8080/",
     "height": 121
    },
    "colab_type": "code",
    "id": "1YupLJtbZyPz",
    "outputId": "86681363-3870-479f-d3eb-a05818593b1e"
   },
   "outputs": [
    {
     "data": {
      "text/plain": [
       "0    183\n",
       "1    145\n",
       "2    145\n",
       "3    222\n",
       "4    118\n",
       "Name: duration_days, dtype: int64"
      ]
     },
     "execution_count": 19,
     "metadata": {
      "tags": []
     },
     "output_type": "execute_result"
    }
   ],
   "source": [
    "aliments_merged['duration_days'].head()"
   ]
  },
  {
   "cell_type": "code",
   "execution_count": 0,
   "metadata": {
    "colab": {},
    "colab_type": "code",
    "id": "8HzYZBXcZ0Nz"
   },
   "outputs": [],
   "source": [
    "# getting outcomes\n",
    "\n",
    "aliments_merged['outcomeFull'] = aliments_merged['outcomeFull'].apply(ast.literal_eval)\n",
    "\n",
    "aliments_merged = aliments_merged[~aliments_merged['sex'].isin(['[null]'])]\n",
    "aliments_merged['sex'] = aliments_merged.sex.apply(lambda x: x.replace('null', '\"null\"')).apply(ast.literal_eval)\n",
    "aliments_merged['sex'] = aliments_merged['sex'].apply(str).apply(ast.literal_eval)\n",
    "\n",
    "aliments_merged['outcome_kind'] = aliments_merged.outcome\n",
    "\n",
    "aliments_merged['outcome'] = aliments_merged.apply(get_outcome, axis=1)\n",
    "\n",
    "aliments_merged['judges_names'] = aliments_merged['judges_names'].apply(ast.literal_eval)"
   ]
  },
  {
   "cell_type": "code",
   "execution_count": 0,
   "metadata": {
    "colab": {
     "base_uri": "https://localhost:8080/",
     "height": 86
    },
    "colab_type": "code",
    "id": "in84AeUyf8-J",
    "outputId": "72dc0d3a-833a-449c-ef87-6f043211bd06"
   },
   "outputs": [
    {
     "data": {
      "text/plain": [
       "instance\n",
       "Апеляційна    0.351659\n",
       "Перша         0.936565\n",
       "Name: outcome, dtype: float64"
      ]
     },
     "execution_count": 21,
     "metadata": {
      "tags": []
     },
     "output_type": "execute_result"
    }
   ],
   "source": [
    "# almost all aliment cases are approval which is not surprise\n",
    "\n",
    "aliments_merged.groupby('instance').outcome.mean()"
   ]
  },
  {
   "cell_type": "code",
   "execution_count": 0,
   "metadata": {
    "colab": {},
    "colab_type": "code",
    "id": "XNHE2_Z0kEbz"
   },
   "outputs": [],
   "source": [
    "# getting sex categoricals of judges\n",
    "\n",
    "aliments_merged['bin_sex'] = aliments_merged.apply(get_judge_sex, axis=1)\n",
    "\n",
    "aliments_merged.dropna(subset=['bin_sex'], inplace=True)"
   ]
  },
  {
   "cell_type": "code",
   "execution_count": 0,
   "metadata": {
    "colab": {
     "base_uri": "https://localhost:8080/",
     "height": 34
    },
    "colab_type": "code",
    "id": "8un4x4Rmn_3I",
    "outputId": "1f144310-0940-4ffd-fdd7-7f183b969900"
   },
   "outputs": [
    {
     "data": {
      "text/plain": [
       "0.5286907293080924"
      ]
     },
     "execution_count": 23,
     "metadata": {
      "tags": []
     },
     "output_type": "execute_result"
    }
   ],
   "source": [
    "# equal proportion of male/female judges\n",
    "aliments_merged.bin_sex.mean()"
   ]
  },
  {
   "cell_type": "code",
   "execution_count": 0,
   "metadata": {
    "colab": {
     "base_uri": "https://localhost:8080/",
     "height": 121
    },
    "colab_type": "code",
    "id": "ebbg_Baknyjk",
    "outputId": "cde9c573-f34f-4dd6-9a3c-21d7628cd9de"
   },
   "outputs": [
    {
     "data": {
      "text/plain": [
       "bin_sex  instance  \n",
       "0.0      Апеляційна    0.331673\n",
       "         Перша         0.933829\n",
       "1.0      Апеляційна    0.364794\n",
       "         Перша         0.939150\n",
       "Name: outcome, dtype: float64"
      ]
     },
     "execution_count": 24,
     "metadata": {
      "tags": []
     },
     "output_type": "execute_result"
    }
   ],
   "source": [
    "aliments_merged.groupby(['bin_sex', 'instance']).outcome.mean()"
   ]
  },
  {
   "cell_type": "code",
   "execution_count": 0,
   "metadata": {
    "colab": {
     "base_uri": "https://localhost:8080/",
     "height": 121
    },
    "colab_type": "code",
    "id": "v7DtO77jN90I",
    "outputId": "6e33d069-0406-49bc-9080-bdb4bda5c845"
   },
   "outputs": [
    {
     "data": {
      "text/plain": [
       "bin_sex  instance  \n",
       "0.0      Апеляційна    0.331673\n",
       "         Перша         0.933829\n",
       "1.0      Апеляційна    0.364794\n",
       "         Перша         0.939150\n",
       "Name: outcome, dtype: float64"
      ]
     },
     "execution_count": 50,
     "metadata": {
      "tags": []
     },
     "output_type": "execute_result"
    }
   ],
   "source": [
    "aliments_merged.groupby(['bin_sex', 'instance']).outcome.mean()"
   ]
  },
  {
   "cell_type": "code",
   "execution_count": 0,
   "metadata": {
    "colab": {
     "base_uri": "https://localhost:8080/",
     "height": 369
    },
    "colab_type": "code",
    "id": "X3siTpd2DKJs",
    "outputId": "891e94c0-3895-4f28-cb9a-23d1da274eda"
   },
   "outputs": [
    {
     "data": {
      "image/png": "[encoded data removed]",
      "text/plain": [
       "<Figure size 432.625x360 with 1 Axes>"
      ]
     },
     "metadata": {
      "tags": []
     },
     "output_type": "display_data"
    }
   ],
   "source": [
    "# equal rates which is also not surprise\n",
    "\n",
    "aliments_merged['sex'] = aliments_merged.bin_sex.map({0: 'Male', 1: 'Female'})\n",
    "\n",
    "mean_outcomes_by_sex = aliments_merged.groupby(['sex', 'instance']).outcome.mean().reset_index()\n",
    "\n",
    "sns.catplot(x='instance', y='outcome', hue='sex', data=mean_outcomes_by_sex, kind='bar', palette='viridis');"
   ]
  },
  {
   "cell_type": "code",
   "execution_count": 0,
   "metadata": {
    "colab": {},
    "colab_type": "code",
    "id": "aN67YO90pDzz"
   },
   "outputs": [],
   "source": [
    "def get_aliments_sum(row):\n",
    "    \n",
    "    try:\n",
    "    \n",
    "        s1 = row\n",
    "\n",
    "        s2 = re.compile(r'ВИРІШИВ:.*', re.I).search(s1).group(0)\n",
    "        s2 = re.sub(r'\\([\\w\\s]+\\)', '', s2) # replace digits spelled by word characters\n",
    "\n",
    "\n",
    "        pattern = re.compile(r'\\s\\d*,?\\s?\\d+,?\\s?(\\(?\\w*\\s?\\w*\\)?\\s?)(грн|гривень)')\n",
    "\n",
    "        matched_objects = [match.group(0).replace('грн', '').replace('гривень', '').replace(',', '.').replace(' ', '').strip()\n",
    "                            for match in pattern.finditer(s2)]\n",
    "\n",
    "\n",
    "        # at first we will not split the court fee and sum\n",
    "\n",
    "        return sum([float(m) for m in matched_objects])\n",
    "    \n",
    "    except:\n",
    "        \n",
    "        return None\n"
   ]
  },
  {
   "cell_type": "code",
   "execution_count": 0,
   "metadata": {
    "colab": {},
    "colab_type": "code",
    "id": "vHuHUEjhS5iX"
   },
   "outputs": [],
   "source": [
    "aliments_merged['aliments_sum'] = aliments_merged.text.apply(get_aliments_sum)"
   ]
  },
  {
   "cell_type": "code",
   "execution_count": 0,
   "metadata": {
    "colab": {
     "base_uri": "https://localhost:8080/",
     "height": 86
    },
    "colab_type": "code",
    "id": "txoN2fUXWkty",
    "outputId": "895021e6-9e96-41b8-fe84-a23fe9ad9e5b"
   },
   "outputs": [
    {
     "data": {
      "text/plain": [
       "instance\n",
       "Апеляційна     2719\n",
       "Перша         21477\n",
       "Name: aliments_sum, dtype: int64"
      ]
     },
     "execution_count": 42,
     "metadata": {
      "tags": []
     },
     "output_type": "execute_result"
    }
   ],
   "source": [
    "aliments_merged.groupby('instance').aliments_sum.apply(lambda x: x.isnull().sum()) # still most of the nans are in first instance, not appelation"
   ]
  },
  {
   "cell_type": "code",
   "execution_count": 0,
   "metadata": {
    "colab": {
     "base_uri": "https://localhost:8080/",
     "height": 34
    },
    "colab_type": "code",
    "id": "E3dUIFLopnhA",
    "outputId": "440692ce-a8ae-4a1c-cf05-97446020ded6"
   },
   "outputs": [
    {
     "data": {
      "text/plain": [
       "(51228, 24)"
      ]
     },
     "execution_count": 27,
     "metadata": {
      "tags": []
     },
     "output_type": "execute_result"
    }
   ],
   "source": [
    "reduced_aliments = aliments_merged.copy()\n",
    "\n",
    "reduced_aliments['aliments_sum'] = reduced_aliments.aliments_sum.replace(0, None)\n",
    "\n",
    "reduced_aliments.dropna(inplace=True)\n",
    "\n",
    "reduced_aliments.shape"
   ]
  },
  {
   "cell_type": "code",
   "execution_count": 0,
   "metadata": {
    "colab": {
     "base_uri": "https://localhost:8080/",
     "height": 52
    },
    "colab_type": "code",
    "id": "Wws2Re2qZbqT",
    "outputId": "2e446753-de20-4d5b-927a-fb26f3c02cab"
   },
   "outputs": [
    {
     "name": "stdout",
     "output_type": "stream",
     "text": [
      "max value is: 2754513228.7\n",
      "max value is at index 9924\n"
     ]
    }
   ],
   "source": [
    "# the string where the value occured was \">30977055254 214,60 гривень\" - html tags mess the overall sum\n",
    "\n",
    "print('max value is:', reduced_aliments.aliments_sum.max())\n",
    "print('max value is at index', reduced_aliments.aliments_sum.idxmax())"
   ]
  },
  {
   "cell_type": "code",
   "execution_count": 0,
   "metadata": {
    "colab": {},
    "colab_type": "code",
    "id": "0zmfwHuUZZIC"
   },
   "outputs": [],
   "source": [
    "# some of them are not aliment cases, or even not civil ones\n",
    "\n",
    "reduced_aliments = reduced_aliments.drop([61332, 9924, 17906, 48015, 26173, 19081, 19082])"
   ]
  },
  {
   "cell_type": "code",
   "execution_count": 0,
   "metadata": {
    "colab": {
     "base_uri": "https://localhost:8080/",
     "height": 269
    },
    "colab_type": "code",
    "id": "ouWAZq9Zfuui",
    "outputId": "09a74f44-ded4-429b-9050-87f9703af7fe"
   },
   "outputs": [
    {
     "data": {
      "image/png": "[encoded data removed]",
      "text/plain": [
       "<Figure size 432x288 with 1 Axes>"
      ]
     },
     "metadata": {
      "tags": []
     },
     "output_type": "display_data"
    }
   ],
   "source": [
    "# most of the values are before 5,000 uah\n",
    "\n",
    "reduced_aliments.aliments_sum[reduced_aliments.aliments_sum < 50_000].hist();"
   ]
  },
  {
   "cell_type": "code",
   "execution_count": 0,
   "metadata": {
    "colab": {
     "base_uri": "https://localhost:8080/",
     "height": 269
    },
    "colab_type": "code",
    "id": "PciloNR7gKOg",
    "outputId": "365bf27e-8e42-4812-e822-0cf50abd98ec"
   },
   "outputs": [
    {
     "data": {
      "image/png": "[encoded data removed]",
      "text/plain": [
       "<Figure size 432x288 with 1 Axes>"
      ]
     },
     "metadata": {
      "tags": []
     },
     "output_type": "display_data"
    }
   ],
   "source": [
    "reduced_aliments.aliments_sum[reduced_aliments.aliments_sum > 50_000].hist();"
   ]
  },
  {
   "cell_type": "code",
   "execution_count": 0,
   "metadata": {
    "colab": {
     "base_uri": "https://localhost:8080/",
     "height": 86
    },
    "colab_type": "code",
    "id": "J_kK7gAtzsxB",
    "outputId": "612c8e23-46d0-4d4e-bb16-7d0d16d9dd74"
   },
   "outputs": [
    {
     "data": {
      "text/plain": [
       "sex\n",
       "Female    41277\n",
       "Male      36797\n",
       "dtype: int64"
      ]
     },
     "execution_count": 53,
     "metadata": {
      "tags": []
     },
     "output_type": "execute_result"
    }
   ],
   "source": [
    "aliments_merged.groupby('sex').size()"
   ]
  },
  {
   "cell_type": "code",
   "execution_count": 0,
   "metadata": {
    "colab": {
     "base_uri": "https://localhost:8080/",
     "height": 86
    },
    "colab_type": "code",
    "id": "clDXemkPO9PN",
    "outputId": "bb73c5d5-ce84-4c7e-bee0-a124eff7a42e"
   },
   "outputs": [
    {
     "data": {
      "text/plain": [
       "sex\n",
       "Female    2498.041368\n",
       "Male      2327.115069\n",
       "Name: aliments_sum, dtype: float64"
      ]
     },
     "execution_count": 29,
     "metadata": {
      "tags": []
     },
     "output_type": "execute_result"
    }
   ],
   "source": [
    "# mean aliments sum by sex\n",
    "\n",
    "reduced_aliments['sex'] = aliments_merged.bin_sex.map({0: 'Male', 1: 'Female'})\n",
    "\n",
    "reduced_aliments.groupby('sex')['aliments_sum'].mean()"
   ]
  },
  {
   "cell_type": "code",
   "execution_count": 0,
   "metadata": {
    "colab": {},
    "colab_type": "code",
    "id": "gpJokYigYYH_"
   },
   "outputs": [],
   "source": [
    "# aliments_merged.drop('text', axis=1).to_csv('aliments_merged.csv', index=False)"
   ]
  },
  {
   "cell_type": "code",
   "execution_count": 0,
   "metadata": {
    "colab": {
     "base_uri": "https://localhost:8080/",
     "height": 86
    },
    "colab_type": "code",
    "id": "BhpFCoobYYEq",
    "outputId": "cbf83584-5dc9-48da-fbc8-b0fe862b35f0"
   },
   "outputs": [
    {
     "data": {
      "text/plain": [
       "sex\n",
       "Female    704.8\n",
       "Male      768.0\n",
       "Name: aliments_sum, dtype: float64"
      ]
     },
     "execution_count": 73,
     "metadata": {
      "tags": []
     },
     "output_type": "execute_result"
    }
   ],
   "source": [
    "# median aliments sum without outliers is much lower\n",
    "\n",
    "reduced_aliments.groupby('sex')['aliments_sum'].median()"
   ]
  },
  {
   "cell_type": "code",
   "execution_count": 0,
   "metadata": {
    "colab": {
     "base_uri": "https://localhost:8080/",
     "height": 434
    },
    "colab_type": "code",
    "id": "T--UEljA3kdO",
    "outputId": "b2a0c8dd-700c-4dfc-aaee-68d8456e9e4d"
   },
   "outputs": [
    {
     "name": "stdout",
     "output_type": "stream",
     "text": [
      "Larger than 2000 UAH\n",
      "sex\n",
      "Female    3000.0\n",
      "Male      2804.8\n",
      "Name: aliments_sum, dtype: float64\n",
      "\n",
      "Larger than 5000 UAH\n",
      "sex\n",
      "Female    11976.000\n",
      "Male      11773.475\n",
      "Name: aliments_sum, dtype: float64\n",
      "\n",
      "Larger than 10000 UAH\n",
      "sex\n",
      "Female    22215.000\n",
      "Male      22706.685\n",
      "Name: aliments_sum, dtype: float64\n",
      "\n",
      "Larger than 20000 UAH\n",
      "sex\n",
      "Female    38709.57\n",
      "Male      36030.00\n",
      "Name: aliments_sum, dtype: float64\n",
      "\n"
     ]
    }
   ],
   "source": [
    "# same proportion everywhere\n",
    "\n",
    "for treshold in [2000, 5000, 10_000, 20_000]:\n",
    "    print(f'Larger than {treshold} UAH')\n",
    "    print(reduced_aliments[reduced_aliments.aliments_sum > treshold].groupby('sex')['aliments_sum'].median())\n",
    "    print()"
   ]
  },
  {
   "cell_type": "code",
   "execution_count": 0,
   "metadata": {
    "colab": {
     "base_uri": "https://localhost:8080/",
     "height": 34
    },
    "colab_type": "code",
    "id": "nlN76AJsUPZn",
    "outputId": "314dbf8f-203c-4055-b059-dd899ef997d9"
   },
   "outputs": [
    {
     "data": {
      "text/plain": [
       "842"
      ]
     },
     "execution_count": 44,
     "metadata": {
      "tags": []
     },
     "output_type": "execute_result"
    }
   ],
   "source": [
    "reduced_aliments[reduced_aliments.aliments_sum > 20_000].outcome.count()"
   ]
  },
  {
   "cell_type": "code",
   "execution_count": 0,
   "metadata": {
    "colab": {
     "base_uri": "https://localhost:8080/",
     "height": 369
    },
    "colab_type": "code",
    "id": "XZRZeAxLUnHr",
    "outputId": "412441ea-cce0-4eb5-9805-70d989867f0e"
   },
   "outputs": [
    {
     "data": {
      "image/png": "[encoded data removed]",
      "text/plain": [
       "<Figure size 792.625x360 with 1 Axes>"
      ]
     },
     "metadata": {
      "tags": []
     },
     "output_type": "display_data"
    }
   ],
   "source": [
    "df_list = []\n",
    "\n",
    "for treshold in [2000, 5000, 10_000, 20_000]:\n",
    "    df = reduced_aliments[reduced_aliments.aliments_sum > treshold].groupby('sex')['aliments_sum'].median().reset_index()\n",
    "    df['treshold'] = f'Larger than {treshold} UAH'\n",
    "    df_list.append(df)\n",
    "    \n",
    "all_treshold_dfs = pd.concat(df_list)\n",
    "\n",
    "sns.catplot(x='treshold', y='aliments_sum', hue='sex', data=all_treshold_dfs, kind='bar', palette='viridis', aspect=2);\n",
    "\n",
    "plt.ylabel('Median sum in UAH (includes court fee)');"
   ]
  },
  {
   "cell_type": "code",
   "execution_count": 0,
   "metadata": {
    "colab": {
     "base_uri": "https://localhost:8080/",
     "height": 86
    },
    "colab_type": "code",
    "id": "QqQ9F9ud4L2N",
    "outputId": "3c52e59d-e43b-4c38-d316-4f623acb0f14"
   },
   "outputs": [
    {
     "data": {
      "text/plain": [
       "bin_sex\n",
       "0.0    1064\n",
       "1.0    1469\n",
       "Name: aliments_sum, dtype: int64"
      ]
     },
     "execution_count": 410,
     "metadata": {
      "tags": []
     },
     "output_type": "execute_result"
    }
   ],
   "source": [
    "# sizes are pretty the same\n",
    "reduced_aliments[reduced_aliments.aliments_sum > 5000].groupby('bin_sex')['aliments_sum'].size()"
   ]
  },
  {
   "cell_type": "code",
   "execution_count": 0,
   "metadata": {
    "colab": {
     "base_uri": "https://localhost:8080/",
     "height": 52
    },
    "colab_type": "code",
    "id": "Kk09wJDO3eZa",
    "outputId": "647bace9-22a9-4be5-96b8-a59e817344cf"
   },
   "outputs": [
    {
     "data": {
      "text/plain": [
       "0    704.0\n",
       "dtype: float64"
      ]
     },
     "execution_count": 413,
     "metadata": {
      "tags": []
     },
     "output_type": "execute_result"
    }
   ],
   "source": [
    "# what about prediction, is there any sense for that or these sums are just common value almost everytime\n",
    "\n",
    "\n",
    "reduced_aliments.aliments_sum.mode()"
   ]
  },
  {
   "cell_type": "code",
   "execution_count": 0,
   "metadata": {
    "colab": {
     "base_uri": "https://localhost:8080/",
     "height": 34
    },
    "colab_type": "code",
    "id": "pT1AU17p4622",
    "outputId": "361b33f3-ba03-4634-c24b-93b8cc60ca84"
   },
   "outputs": [
    {
     "data": {
      "text/plain": [
       "(9235, 24)"
      ]
     },
     "execution_count": 417,
     "metadata": {
      "tags": []
     },
     "output_type": "execute_result"
    }
   ],
   "source": [
    "reduced_aliments[reduced_aliments.aliments_sum == 704].shape"
   ]
  },
  {
   "cell_type": "code",
   "execution_count": 0,
   "metadata": {
    "colab": {
     "base_uri": "https://localhost:8080/",
     "height": 52
    },
    "colab_type": "code",
    "id": "SAZ17jSv5tab",
    "outputId": "6cf1b3ee-615a-4bad-8c21-165b84a5383f"
   },
   "outputs": [
    {
     "data": {
      "text/plain": [
       "0    704.8\n",
       "dtype: float64"
      ]
     },
     "execution_count": 419,
     "metadata": {
      "tags": []
     },
     "output_type": "execute_result"
    }
   ],
   "source": [
    "reduced_aliments.drop(reduced_aliments[reduced_aliments.aliments_sum == 704].index).aliments_sum.mode()"
   ]
  },
  {
   "cell_type": "code",
   "execution_count": 0,
   "metadata": {
    "colab": {
     "base_uri": "https://localhost:8080/",
     "height": 34
    },
    "colab_type": "code",
    "id": "sDjaiHg_5j1N",
    "outputId": "02ea185e-19d9-4867-b4c5-758389b2da6c"
   },
   "outputs": [
    {
     "data": {
      "text/plain": [
       "(8942, 24)"
      ]
     },
     "execution_count": 420,
     "metadata": {
      "tags": []
     },
     "output_type": "execute_result"
    }
   ],
   "source": [
    "reduced_aliments[reduced_aliments.aliments_sum == 704.8].shape"
   ]
  },
  {
   "cell_type": "code",
   "execution_count": 0,
   "metadata": {
    "colab": {
     "base_uri": "https://localhost:8080/",
     "height": 52
    },
    "colab_type": "code",
    "id": "d8tKVWmX5rXs",
    "outputId": "843d6c07-9adb-4cd2-8d4a-cfa0fb3de534"
   },
   "outputs": [
    {
     "data": {
      "text/plain": [
       "0    1000.0\n",
       "dtype: float64"
      ]
     },
     "execution_count": 423,
     "metadata": {
      "tags": []
     },
     "output_type": "execute_result"
    }
   ],
   "source": [
    "reduced_aliments[reduced_aliments.aliments_sum > 705].aliments_sum.mode()"
   ]
  },
  {
   "cell_type": "code",
   "execution_count": 0,
   "metadata": {
    "colab": {
     "base_uri": "https://localhost:8080/",
     "height": 34
    },
    "colab_type": "code",
    "id": "cut2GzXC59oC",
    "outputId": "ae26a4cb-2f01-4f6e-cbcd-d5beabc07258"
   },
   "outputs": [
    {
     "data": {
      "text/plain": [
       "(2172, 24)"
      ]
     },
     "execution_count": 424,
     "metadata": {
      "tags": []
     },
     "output_type": "execute_result"
    }
   ],
   "source": [
    "reduced_aliments[reduced_aliments.aliments_sum == 1000.0].shape"
   ]
  },
  {
   "cell_type": "code",
   "execution_count": 0,
   "metadata": {
    "colab": {
     "base_uri": "https://localhost:8080/",
     "height": 34
    },
    "colab_type": "code",
    "id": "uPQ0AeOM6D9L",
    "outputId": "28704999-cf4a-4528-e28c-60b766b73221"
   },
   "outputs": [
    {
     "data": {
      "text/plain": [
       "(39693, 24)"
      ]
     },
     "execution_count": 425,
     "metadata": {
      "tags": []
     },
     "output_type": "execute_result"
    }
   ],
   "source": [
    "# half of the dataset is the value below the 2000, so are just probably minima sum\n",
    "reduced_aliments[reduced_aliments.aliments_sum < 2000].shape"
   ]
  },
  {
   "cell_type": "code",
   "execution_count": 0,
   "metadata": {
    "colab": {
     "base_uri": "https://localhost:8080/",
     "height": 269
    },
    "colab_type": "code",
    "id": "mYF3wUBM7j-b",
    "outputId": "239eb72f-65ed-4a5c-b6ca-ae59ea7a8913"
   },
   "outputs": [
    {
     "data": {
      "image/png": "[encoded data removed]",
      "text/plain": [
       "<Figure size 432x288 with 1 Axes>"
      ]
     },
     "metadata": {
      "tags": []
     },
     "output_type": "display_data"
    }
   ],
   "source": [
    "# variability distribution\n",
    "reduced_aliments[reduced_aliments.aliments_sum < 10_000].groupby('judge').aliments_sum.std().hist();"
   ]
  },
  {
   "cell_type": "code",
   "execution_count": 0,
   "metadata": {
    "colab": {},
    "colab_type": "code",
    "id": "DwSlYlDg3eWA"
   },
   "outputs": [],
   "source": [
    "reduced_aliments['judge_median'] = reduced_aliments.groupby('judge').aliments_sum.transform('median')\n",
    "\n",
    "reduced_aliments['judge_std'] = reduced_aliments.groupby('judge').aliments_sum.transform('std')"
   ]
  },
  {
   "cell_type": "code",
   "execution_count": 0,
   "metadata": {
    "colab": {},
    "colab_type": "code",
    "id": "BN56z8bYOz-d"
   },
   "outputs": [],
   "source": [
    "aliments_merged['date'] = aliments_merged.adjudication_date_x.apply(pd.to_datetime)"
   ]
  },
  {
   "cell_type": "code",
   "execution_count": 0,
   "metadata": {
    "colab": {
     "base_uri": "https://localhost:8080/",
     "height": 349
    },
    "colab_type": "code",
    "id": "dc_qoD2yNzgw",
    "outputId": "5bbdb9b1-41b6-4bff-aff4-1f6805680a7c"
   },
   "outputs": [
    {
     "data": {
      "image/png": "[encoded data removed]",
      "text/plain": [
       "<Figure size 720x360 with 1 Axes>"
      ]
     },
     "metadata": {
      "tags": []
     },
     "output_type": "display_data"
    }
   ],
   "source": [
    "after_2018 = aliments_merged[aliments_merged.date.apply(lambda x: x.date()) > pd.to_datetime('2018-01-01').date()]\n",
    "\n",
    "after_2018 = after_2018[after_2018.aliments_sum < 100_000]\n",
    "\n",
    "# does the value of aliments increase? I guess we see the influence of adoption of the new legislation\n",
    "\n",
    "\n",
    "plt.figure(figsize=(10, 5))\n",
    "after_2018.set_index(pd.DatetimeIndex(after_2018.date.apply(lambda x: x.date())))\\\n",
    "                        .resample('M').aliments_sum.mean().plot();\n",
    "\n",
    "plt.xlabel('Date')\n",
    "plt.ylabel('Sum in UAH (includes court fee)');"
   ]
  }
 ],
 "metadata": {
  "accelerator": "GPU",
  "colab": {
   "collapsed_sections": [],
   "name": "Family_cases_predictions.ipynb",
   "provenance": [],
   "version": "0.3.2"
  },
  "kernelspec": {
   "display_name": "Python 3",
   "language": "python",
   "name": "python3"
  },
  "language_info": {
   "codemirror_mode": {
    "name": "ipython",
    "version": 3
   },
   "file_extension": ".py",
   "mimetype": "text/x-python",
   "name": "python",
   "nbconvert_exporter": "python",
   "pygments_lexer": "ipython3",
   "version": "3.7.2"
  }
 },
 "nbformat": 4,
 "nbformat_minor": 1
}
